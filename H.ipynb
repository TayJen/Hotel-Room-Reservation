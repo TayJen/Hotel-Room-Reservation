{
  "nbformat": 4,
  "nbformat_minor": 0,
  "metadata": {
    "colab": {
      "name": "H.ipynb",
      "provenance": [],
      "collapsed_sections": [],
      "mount_file_id": "156t5ihOBFGq50J3sludKobjIv83hd63q",
      "authorship_tag": "ABX9TyM+GjqNqLkUu/vFyH3MYWQF"
    },
    "kernelspec": {
      "name": "python3",
      "display_name": "Python 3"
    },
    "language_info": {
      "name": "python"
    },
    "accelerator": "GPU"
  },
  "cells": [
    {
      "cell_type": "code",
      "source": [
        "from google.colab import drive\n",
        "drive.mount('/content/drive')"
      ],
      "metadata": {
        "colab": {
          "base_uri": "https://localhost:8080/"
        },
        "id": "isjK6MFPy_8H",
        "outputId": "eb301eed-a205-45c4-8207-4c3e451b0520"
      },
      "execution_count": 1,
      "outputs": [
        {
          "output_type": "stream",
          "name": "stdout",
          "text": [
            "Drive already mounted at /content/drive; to attempt to forcibly remount, call drive.mount(\"/content/drive\", force_remount=True).\n"
          ]
        }
      ]
    },
    {
      "cell_type": "markdown",
      "source": [
        "## Data"
      ],
      "metadata": {
        "id": "xriTId-ZTkuo"
      }
    },
    {
      "cell_type": "code",
      "execution_count": 2,
      "metadata": {
        "colab": {
          "base_uri": "https://localhost:8080/"
        },
        "id": "4RRzopDLy3uL",
        "outputId": "7fe1106c-14b2-4253-afd9-927ea50e3314"
      },
      "outputs": [
        {
          "output_type": "stream",
          "name": "stdout",
          "text": [
            "Train shape: (65229, 25)\n",
            "Test shape: (32412, 25)\n"
          ]
        }
      ],
      "source": [
        "import pandas as pd\n",
        "import numpy as np\n",
        "import matplotlib.pyplot as plt\n",
        "\n",
        "path = '/content/drive/MyDrive/Hotel System/'\n",
        "df = pd.read_csv(path + 'hotel_train.csv')\n",
        "df_test = pd.read_csv(path + 'hotel_test.csv')\n",
        "\n",
        "print(f'Train shape: {df.shape}')\n",
        "print(f'Test shape: {df_test.shape}')"
      ]
    },
    {
      "cell_type": "code",
      "source": [
        "pd.set_option(\"display.max_rows\", None, \"display.max_columns\", None)"
      ],
      "metadata": {
        "id": "jtaXEAGGpq3u"
      },
      "execution_count": 3,
      "outputs": []
    },
    {
      "cell_type": "code",
      "source": [
        "print(df.head())"
      ],
      "metadata": {
        "colab": {
          "base_uri": "https://localhost:8080/"
        },
        "id": "x6-Q44IAzcmc",
        "outputId": "1a1cc33c-bdd2-4995-89d6-174626d0ec2d"
      },
      "execution_count": 4,
      "outputs": [
        {
          "output_type": "stream",
          "name": "stdout",
          "text": [
            "   id  is_canceled  lead_time  arrival_date_year arrival_date_month  \\\n",
            "0   0            0        7.0               2015               July   \n",
            "1   1            0       14.0               2015               July   \n",
            "2   2            0        0.0               2015               July   \n",
            "3   3            0        9.0               2015               July   \n",
            "4   4            1       85.0               2015               July   \n",
            "\n",
            "   arrival_date_week_number  arrival_date_day_of_month  \\\n",
            "0                        27                          1   \n",
            "1                        27                          1   \n",
            "2                        27                          1   \n",
            "3                        27                          1   \n",
            "4                        27                          1   \n",
            "\n",
            "   stays_in_weekend_nights  stays_in_week_nights  adults  children  babies  \\\n",
            "0                        0                     1     1.0       0.0     0.0   \n",
            "1                        0                     2     2.0       0.0     0.0   \n",
            "2                        0                     2     2.0       0.0     0.0   \n",
            "3                        0                     2     2.0       0.0     0.0   \n",
            "4                        0                     3     2.0       0.0     0.0   \n",
            "\n",
            "        meal country distribution_channel  is_repeated_guest  \\\n",
            "0  BB            GBR               Direct                  0   \n",
            "1  BB            GBR                TA/TO                  0   \n",
            "2  BB            PRT               Direct                  0   \n",
            "3  FB            PRT               Direct                  0   \n",
            "4  BB            PRT                TA/TO                  0   \n",
            "\n",
            "   previous_cancellations  previous_bookings_not_canceled reserved_room_type  \\\n",
            "0                       0                               0   A                  \n",
            "1                       0                               0   A                  \n",
            "2                       0                               0   C                  \n",
            "3                       0                               0   C                  \n",
            "4                       0                               0   A                  \n",
            "\n",
            "   booking_changes  days_in_waiting_list customer_type  \\\n",
            "0                0                     0     Transient   \n",
            "1                0                     0     Transient   \n",
            "2                0                     0     Transient   \n",
            "3                0                     0     Transient   \n",
            "4                0                     0     Transient   \n",
            "\n",
            "   required_car_parking_spaces  total_of_special_requests  total_nights  \n",
            "0                            0                          0             1  \n",
            "1                            0                          1             2  \n",
            "2                            0                          0             2  \n",
            "3                            0                          1             2  \n",
            "4                            0                          1             3  \n"
          ]
        }
      ]
    },
    {
      "cell_type": "markdown",
      "source": [
        "Somebody has 10 babies with him/her. And somebody cancelled 26 reservations in the past."
      ],
      "metadata": {
        "id": "Fc7_0rl861XY"
      }
    },
    {
      "cell_type": "code",
      "source": [
        "df.describe()"
      ],
      "metadata": {
        "colab": {
          "base_uri": "https://localhost:8080/",
          "height": 364
        },
        "id": "5MGiPaRe6dFj",
        "outputId": "dd0eab54-13c3-4ec5-c1ae-f593e37c5d2a"
      },
      "execution_count": 5,
      "outputs": [
        {
          "output_type": "execute_result",
          "data": {
            "text/html": [
              "\n",
              "  <div id=\"df-f2c4d0f5-f331-4535-b6d1-51f23b646248\">\n",
              "    <div class=\"colab-df-container\">\n",
              "      <div>\n",
              "<style scoped>\n",
              "    .dataframe tbody tr th:only-of-type {\n",
              "        vertical-align: middle;\n",
              "    }\n",
              "\n",
              "    .dataframe tbody tr th {\n",
              "        vertical-align: top;\n",
              "    }\n",
              "\n",
              "    .dataframe thead th {\n",
              "        text-align: right;\n",
              "    }\n",
              "</style>\n",
              "<table border=\"1\" class=\"dataframe\">\n",
              "  <thead>\n",
              "    <tr style=\"text-align: right;\">\n",
              "      <th></th>\n",
              "      <th>id</th>\n",
              "      <th>is_canceled</th>\n",
              "      <th>lead_time</th>\n",
              "      <th>arrival_date_year</th>\n",
              "      <th>arrival_date_week_number</th>\n",
              "      <th>arrival_date_day_of_month</th>\n",
              "      <th>stays_in_weekend_nights</th>\n",
              "      <th>stays_in_week_nights</th>\n",
              "      <th>adults</th>\n",
              "      <th>children</th>\n",
              "      <th>babies</th>\n",
              "      <th>is_repeated_guest</th>\n",
              "      <th>previous_cancellations</th>\n",
              "      <th>previous_bookings_not_canceled</th>\n",
              "      <th>booking_changes</th>\n",
              "      <th>days_in_waiting_list</th>\n",
              "      <th>required_car_parking_spaces</th>\n",
              "      <th>total_of_special_requests</th>\n",
              "      <th>total_nights</th>\n",
              "    </tr>\n",
              "  </thead>\n",
              "  <tbody>\n",
              "    <tr>\n",
              "      <th>count</th>\n",
              "      <td>65229.000000</td>\n",
              "      <td>65229.000000</td>\n",
              "      <td>65229.000000</td>\n",
              "      <td>65229.000000</td>\n",
              "      <td>65229.000000</td>\n",
              "      <td>65229.000000</td>\n",
              "      <td>65229.000000</td>\n",
              "      <td>65229.000000</td>\n",
              "      <td>65229.000000</td>\n",
              "      <td>65229.000000</td>\n",
              "      <td>65229.000000</td>\n",
              "      <td>65229.000000</td>\n",
              "      <td>65229.000000</td>\n",
              "      <td>65229.000000</td>\n",
              "      <td>65229.000000</td>\n",
              "      <td>65229.000000</td>\n",
              "      <td>65229.000000</td>\n",
              "      <td>65229.000000</td>\n",
              "      <td>65229.000000</td>\n",
              "    </tr>\n",
              "    <tr>\n",
              "      <th>mean</th>\n",
              "      <td>43544.069172</td>\n",
              "      <td>0.368609</td>\n",
              "      <td>96.337917</td>\n",
              "      <td>2015.719021</td>\n",
              "      <td>31.339772</td>\n",
              "      <td>15.847813</td>\n",
              "      <td>0.825185</td>\n",
              "      <td>2.224793</td>\n",
              "      <td>1.836576</td>\n",
              "      <td>0.074890</td>\n",
              "      <td>0.007236</td>\n",
              "      <td>0.027151</td>\n",
              "      <td>0.128915</td>\n",
              "      <td>0.107713</td>\n",
              "      <td>0.194269</td>\n",
              "      <td>3.334422</td>\n",
              "      <td>0.056647</td>\n",
              "      <td>0.512763</td>\n",
              "      <td>3.049978</td>\n",
              "    </tr>\n",
              "    <tr>\n",
              "      <th>std</th>\n",
              "      <td>25614.858971</td>\n",
              "      <td>0.482431</td>\n",
              "      <td>96.127545</td>\n",
              "      <td>0.449481</td>\n",
              "      <td>13.464024</td>\n",
              "      <td>8.748182</td>\n",
              "      <td>0.853477</td>\n",
              "      <td>1.354992</td>\n",
              "      <td>0.480245</td>\n",
              "      <td>0.334243</td>\n",
              "      <td>0.098790</td>\n",
              "      <td>0.162523</td>\n",
              "      <td>0.965326</td>\n",
              "      <td>1.326638</td>\n",
              "      <td>0.593838</td>\n",
              "      <td>18.239606</td>\n",
              "      <td>0.232094</td>\n",
              "      <td>0.752590</td>\n",
              "      <td>1.738108</td>\n",
              "    </tr>\n",
              "    <tr>\n",
              "      <th>min</th>\n",
              "      <td>0.000000</td>\n",
              "      <td>0.000000</td>\n",
              "      <td>0.000000</td>\n",
              "      <td>2015.000000</td>\n",
              "      <td>1.000000</td>\n",
              "      <td>1.000000</td>\n",
              "      <td>0.000000</td>\n",
              "      <td>0.000000</td>\n",
              "      <td>0.000000</td>\n",
              "      <td>0.000000</td>\n",
              "      <td>0.000000</td>\n",
              "      <td>0.000000</td>\n",
              "      <td>0.000000</td>\n",
              "      <td>0.000000</td>\n",
              "      <td>0.000000</td>\n",
              "      <td>0.000000</td>\n",
              "      <td>0.000000</td>\n",
              "      <td>0.000000</td>\n",
              "      <td>1.000000</td>\n",
              "    </tr>\n",
              "    <tr>\n",
              "      <th>25%</th>\n",
              "      <td>19108.000000</td>\n",
              "      <td>0.000000</td>\n",
              "      <td>17.000000</td>\n",
              "      <td>2015.000000</td>\n",
              "      <td>21.000000</td>\n",
              "      <td>8.000000</td>\n",
              "      <td>0.000000</td>\n",
              "      <td>1.000000</td>\n",
              "      <td>2.000000</td>\n",
              "      <td>0.000000</td>\n",
              "      <td>0.000000</td>\n",
              "      <td>0.000000</td>\n",
              "      <td>0.000000</td>\n",
              "      <td>0.000000</td>\n",
              "      <td>0.000000</td>\n",
              "      <td>0.000000</td>\n",
              "      <td>0.000000</td>\n",
              "      <td>0.000000</td>\n",
              "      <td>2.000000</td>\n",
              "    </tr>\n",
              "    <tr>\n",
              "      <th>50%</th>\n",
              "      <td>40554.000000</td>\n",
              "      <td>0.000000</td>\n",
              "      <td>64.000000</td>\n",
              "      <td>2016.000000</td>\n",
              "      <td>34.000000</td>\n",
              "      <td>16.000000</td>\n",
              "      <td>1.000000</td>\n",
              "      <td>2.000000</td>\n",
              "      <td>2.000000</td>\n",
              "      <td>0.000000</td>\n",
              "      <td>0.000000</td>\n",
              "      <td>0.000000</td>\n",
              "      <td>0.000000</td>\n",
              "      <td>0.000000</td>\n",
              "      <td>0.000000</td>\n",
              "      <td>0.000000</td>\n",
              "      <td>0.000000</td>\n",
              "      <td>0.000000</td>\n",
              "      <td>3.000000</td>\n",
              "    </tr>\n",
              "    <tr>\n",
              "      <th>75%</th>\n",
              "      <td>67414.000000</td>\n",
              "      <td>1.000000</td>\n",
              "      <td>151.000000</td>\n",
              "      <td>2016.000000</td>\n",
              "      <td>42.000000</td>\n",
              "      <td>23.000000</td>\n",
              "      <td>2.000000</td>\n",
              "      <td>3.000000</td>\n",
              "      <td>2.000000</td>\n",
              "      <td>0.000000</td>\n",
              "      <td>0.000000</td>\n",
              "      <td>0.000000</td>\n",
              "      <td>0.000000</td>\n",
              "      <td>0.000000</td>\n",
              "      <td>0.000000</td>\n",
              "      <td>0.000000</td>\n",
              "      <td>0.000000</td>\n",
              "      <td>1.000000</td>\n",
              "      <td>4.000000</td>\n",
              "    </tr>\n",
              "    <tr>\n",
              "      <th>max</th>\n",
              "      <td>84121.000000</td>\n",
              "      <td>1.000000</td>\n",
              "      <td>374.000000</td>\n",
              "      <td>2016.000000</td>\n",
              "      <td>53.000000</td>\n",
              "      <td>31.000000</td>\n",
              "      <td>4.000000</td>\n",
              "      <td>6.000000</td>\n",
              "      <td>4.000000</td>\n",
              "      <td>3.000000</td>\n",
              "      <td>10.000000</td>\n",
              "      <td>1.000000</td>\n",
              "      <td>26.000000</td>\n",
              "      <td>58.000000</td>\n",
              "      <td>17.000000</td>\n",
              "      <td>259.000000</td>\n",
              "      <td>3.000000</td>\n",
              "      <td>5.000000</td>\n",
              "      <td>10.000000</td>\n",
              "    </tr>\n",
              "  </tbody>\n",
              "</table>\n",
              "</div>\n",
              "      <button class=\"colab-df-convert\" onclick=\"convertToInteractive('df-f2c4d0f5-f331-4535-b6d1-51f23b646248')\"\n",
              "              title=\"Convert this dataframe to an interactive table.\"\n",
              "              style=\"display:none;\">\n",
              "        \n",
              "  <svg xmlns=\"http://www.w3.org/2000/svg\" height=\"24px\"viewBox=\"0 0 24 24\"\n",
              "       width=\"24px\">\n",
              "    <path d=\"M0 0h24v24H0V0z\" fill=\"none\"/>\n",
              "    <path d=\"M18.56 5.44l.94 2.06.94-2.06 2.06-.94-2.06-.94-.94-2.06-.94 2.06-2.06.94zm-11 1L8.5 8.5l.94-2.06 2.06-.94-2.06-.94L8.5 2.5l-.94 2.06-2.06.94zm10 10l.94 2.06.94-2.06 2.06-.94-2.06-.94-.94-2.06-.94 2.06-2.06.94z\"/><path d=\"M17.41 7.96l-1.37-1.37c-.4-.4-.92-.59-1.43-.59-.52 0-1.04.2-1.43.59L10.3 9.45l-7.72 7.72c-.78.78-.78 2.05 0 2.83L4 21.41c.39.39.9.59 1.41.59.51 0 1.02-.2 1.41-.59l7.78-7.78 2.81-2.81c.8-.78.8-2.07 0-2.86zM5.41 20L4 18.59l7.72-7.72 1.47 1.35L5.41 20z\"/>\n",
              "  </svg>\n",
              "      </button>\n",
              "      \n",
              "  <style>\n",
              "    .colab-df-container {\n",
              "      display:flex;\n",
              "      flex-wrap:wrap;\n",
              "      gap: 12px;\n",
              "    }\n",
              "\n",
              "    .colab-df-convert {\n",
              "      background-color: #E8F0FE;\n",
              "      border: none;\n",
              "      border-radius: 50%;\n",
              "      cursor: pointer;\n",
              "      display: none;\n",
              "      fill: #1967D2;\n",
              "      height: 32px;\n",
              "      padding: 0 0 0 0;\n",
              "      width: 32px;\n",
              "    }\n",
              "\n",
              "    .colab-df-convert:hover {\n",
              "      background-color: #E2EBFA;\n",
              "      box-shadow: 0px 1px 2px rgba(60, 64, 67, 0.3), 0px 1px 3px 1px rgba(60, 64, 67, 0.15);\n",
              "      fill: #174EA6;\n",
              "    }\n",
              "\n",
              "    [theme=dark] .colab-df-convert {\n",
              "      background-color: #3B4455;\n",
              "      fill: #D2E3FC;\n",
              "    }\n",
              "\n",
              "    [theme=dark] .colab-df-convert:hover {\n",
              "      background-color: #434B5C;\n",
              "      box-shadow: 0px 1px 3px 1px rgba(0, 0, 0, 0.15);\n",
              "      filter: drop-shadow(0px 1px 2px rgba(0, 0, 0, 0.3));\n",
              "      fill: #FFFFFF;\n",
              "    }\n",
              "  </style>\n",
              "\n",
              "      <script>\n",
              "        const buttonEl =\n",
              "          document.querySelector('#df-f2c4d0f5-f331-4535-b6d1-51f23b646248 button.colab-df-convert');\n",
              "        buttonEl.style.display =\n",
              "          google.colab.kernel.accessAllowed ? 'block' : 'none';\n",
              "\n",
              "        async function convertToInteractive(key) {\n",
              "          const element = document.querySelector('#df-f2c4d0f5-f331-4535-b6d1-51f23b646248');\n",
              "          const dataTable =\n",
              "            await google.colab.kernel.invokeFunction('convertToInteractive',\n",
              "                                                     [key], {});\n",
              "          if (!dataTable) return;\n",
              "\n",
              "          const docLinkHtml = 'Like what you see? Visit the ' +\n",
              "            '<a target=\"_blank\" href=https://colab.research.google.com/notebooks/data_table.ipynb>data table notebook</a>'\n",
              "            + ' to learn more about interactive tables.';\n",
              "          element.innerHTML = '';\n",
              "          dataTable['output_type'] = 'display_data';\n",
              "          await google.colab.output.renderOutput(dataTable, element);\n",
              "          const docLink = document.createElement('div');\n",
              "          docLink.innerHTML = docLinkHtml;\n",
              "          element.appendChild(docLink);\n",
              "        }\n",
              "      </script>\n",
              "    </div>\n",
              "  </div>\n",
              "  "
            ],
            "text/plain": [
              "                 id   is_canceled     lead_time  arrival_date_year  \\\n",
              "count  65229.000000  65229.000000  65229.000000       65229.000000   \n",
              "mean   43544.069172      0.368609     96.337917        2015.719021   \n",
              "std    25614.858971      0.482431     96.127545           0.449481   \n",
              "min        0.000000      0.000000      0.000000        2015.000000   \n",
              "25%    19108.000000      0.000000     17.000000        2015.000000   \n",
              "50%    40554.000000      0.000000     64.000000        2016.000000   \n",
              "75%    67414.000000      1.000000    151.000000        2016.000000   \n",
              "max    84121.000000      1.000000    374.000000        2016.000000   \n",
              "\n",
              "       arrival_date_week_number  arrival_date_day_of_month  \\\n",
              "count              65229.000000               65229.000000   \n",
              "mean                  31.339772                  15.847813   \n",
              "std                   13.464024                   8.748182   \n",
              "min                    1.000000                   1.000000   \n",
              "25%                   21.000000                   8.000000   \n",
              "50%                   34.000000                  16.000000   \n",
              "75%                   42.000000                  23.000000   \n",
              "max                   53.000000                  31.000000   \n",
              "\n",
              "       stays_in_weekend_nights  stays_in_week_nights        adults  \\\n",
              "count             65229.000000          65229.000000  65229.000000   \n",
              "mean                  0.825185              2.224793      1.836576   \n",
              "std                   0.853477              1.354992      0.480245   \n",
              "min                   0.000000              0.000000      0.000000   \n",
              "25%                   0.000000              1.000000      2.000000   \n",
              "50%                   1.000000              2.000000      2.000000   \n",
              "75%                   2.000000              3.000000      2.000000   \n",
              "max                   4.000000              6.000000      4.000000   \n",
              "\n",
              "           children        babies  is_repeated_guest  previous_cancellations  \\\n",
              "count  65229.000000  65229.000000       65229.000000            65229.000000   \n",
              "mean       0.074890      0.007236           0.027151                0.128915   \n",
              "std        0.334243      0.098790           0.162523                0.965326   \n",
              "min        0.000000      0.000000           0.000000                0.000000   \n",
              "25%        0.000000      0.000000           0.000000                0.000000   \n",
              "50%        0.000000      0.000000           0.000000                0.000000   \n",
              "75%        0.000000      0.000000           0.000000                0.000000   \n",
              "max        3.000000     10.000000           1.000000               26.000000   \n",
              "\n",
              "       previous_bookings_not_canceled  booking_changes  days_in_waiting_list  \\\n",
              "count                    65229.000000     65229.000000          65229.000000   \n",
              "mean                         0.107713         0.194269              3.334422   \n",
              "std                          1.326638         0.593838             18.239606   \n",
              "min                          0.000000         0.000000              0.000000   \n",
              "25%                          0.000000         0.000000              0.000000   \n",
              "50%                          0.000000         0.000000              0.000000   \n",
              "75%                          0.000000         0.000000              0.000000   \n",
              "max                         58.000000        17.000000            259.000000   \n",
              "\n",
              "       required_car_parking_spaces  total_of_special_requests  total_nights  \n",
              "count                 65229.000000               65229.000000  65229.000000  \n",
              "mean                      0.056647                   0.512763      3.049978  \n",
              "std                       0.232094                   0.752590      1.738108  \n",
              "min                       0.000000                   0.000000      1.000000  \n",
              "25%                       0.000000                   0.000000      2.000000  \n",
              "50%                       0.000000                   0.000000      3.000000  \n",
              "75%                       0.000000                   1.000000      4.000000  \n",
              "max                       3.000000                   5.000000     10.000000  "
            ]
          },
          "metadata": {},
          "execution_count": 5
        }
      ]
    },
    {
      "cell_type": "markdown",
      "source": [
        "Seems like perfect data for me"
      ],
      "metadata": {
        "id": "8uJYnyPA5o0b"
      }
    },
    {
      "cell_type": "code",
      "source": [
        "df.info()"
      ],
      "metadata": {
        "colab": {
          "base_uri": "https://localhost:8080/"
        },
        "id": "E1q2P7_08V_K",
        "outputId": "2ad2a1e3-81e0-4425-c4c7-0de77090c7ed"
      },
      "execution_count": 6,
      "outputs": [
        {
          "output_type": "stream",
          "name": "stdout",
          "text": [
            "<class 'pandas.core.frame.DataFrame'>\n",
            "RangeIndex: 65229 entries, 0 to 65228\n",
            "Data columns (total 25 columns):\n",
            " #   Column                          Non-Null Count  Dtype  \n",
            "---  ------                          --------------  -----  \n",
            " 0   id                              65229 non-null  int64  \n",
            " 1   is_canceled                     65229 non-null  int64  \n",
            " 2   lead_time                       65229 non-null  float64\n",
            " 3   arrival_date_year               65229 non-null  int64  \n",
            " 4   arrival_date_month              65229 non-null  object \n",
            " 5   arrival_date_week_number        65229 non-null  int64  \n",
            " 6   arrival_date_day_of_month       65229 non-null  int64  \n",
            " 7   stays_in_weekend_nights         65229 non-null  int64  \n",
            " 8   stays_in_week_nights            65229 non-null  int64  \n",
            " 9   adults                          65229 non-null  float64\n",
            " 10  children                        65229 non-null  float64\n",
            " 11  babies                          65229 non-null  float64\n",
            " 12  meal                            65229 non-null  object \n",
            " 13  country                         65229 non-null  object \n",
            " 14  distribution_channel            65229 non-null  object \n",
            " 15  is_repeated_guest               65229 non-null  int64  \n",
            " 16  previous_cancellations          65229 non-null  int64  \n",
            " 17  previous_bookings_not_canceled  65229 non-null  int64  \n",
            " 18  reserved_room_type              65229 non-null  object \n",
            " 19  booking_changes                 65229 non-null  int64  \n",
            " 20  days_in_waiting_list            65229 non-null  int64  \n",
            " 21  customer_type                   65229 non-null  object \n",
            " 22  required_car_parking_spaces     65229 non-null  int64  \n",
            " 23  total_of_special_requests       65229 non-null  int64  \n",
            " 24  total_nights                    65229 non-null  int64  \n",
            "dtypes: float64(4), int64(15), object(6)\n",
            "memory usage: 12.4+ MB\n"
          ]
        }
      ]
    },
    {
      "cell_type": "markdown",
      "source": [
        "Lets clean guests with more than 5 babys. Otherwise it will be an Anomaly."
      ],
      "metadata": {
        "id": "PADabIOI8wNn"
      }
    },
    {
      "cell_type": "code",
      "source": [
        "df[df['babies'] > 5]"
      ],
      "metadata": {
        "colab": {
          "base_uri": "https://localhost:8080/",
          "height": 176
        },
        "id": "MkYypl_mzeN0",
        "outputId": "f36b7e61-bef9-42d3-eae0-c3de99ac9da5"
      },
      "execution_count": 7,
      "outputs": [
        {
          "output_type": "execute_result",
          "data": {
            "text/html": [
              "\n",
              "  <div id=\"df-decfc9a2-7164-4535-9c26-5e776d28a80d\">\n",
              "    <div class=\"colab-df-container\">\n",
              "      <div>\n",
              "<style scoped>\n",
              "    .dataframe tbody tr th:only-of-type {\n",
              "        vertical-align: middle;\n",
              "    }\n",
              "\n",
              "    .dataframe tbody tr th {\n",
              "        vertical-align: top;\n",
              "    }\n",
              "\n",
              "    .dataframe thead th {\n",
              "        text-align: right;\n",
              "    }\n",
              "</style>\n",
              "<table border=\"1\" class=\"dataframe\">\n",
              "  <thead>\n",
              "    <tr style=\"text-align: right;\">\n",
              "      <th></th>\n",
              "      <th>id</th>\n",
              "      <th>is_canceled</th>\n",
              "      <th>lead_time</th>\n",
              "      <th>arrival_date_year</th>\n",
              "      <th>arrival_date_month</th>\n",
              "      <th>arrival_date_week_number</th>\n",
              "      <th>arrival_date_day_of_month</th>\n",
              "      <th>stays_in_weekend_nights</th>\n",
              "      <th>stays_in_week_nights</th>\n",
              "      <th>adults</th>\n",
              "      <th>children</th>\n",
              "      <th>babies</th>\n",
              "      <th>meal</th>\n",
              "      <th>country</th>\n",
              "      <th>distribution_channel</th>\n",
              "      <th>is_repeated_guest</th>\n",
              "      <th>previous_cancellations</th>\n",
              "      <th>previous_bookings_not_canceled</th>\n",
              "      <th>reserved_room_type</th>\n",
              "      <th>booking_changes</th>\n",
              "      <th>days_in_waiting_list</th>\n",
              "      <th>customer_type</th>\n",
              "      <th>required_car_parking_spaces</th>\n",
              "      <th>total_of_special_requests</th>\n",
              "      <th>total_nights</th>\n",
              "    </tr>\n",
              "  </thead>\n",
              "  <tbody>\n",
              "    <tr>\n",
              "      <th>22995</th>\n",
              "      <td>30935</td>\n",
              "      <td>0</td>\n",
              "      <td>37.0</td>\n",
              "      <td>2016</td>\n",
              "      <td>January</td>\n",
              "      <td>3</td>\n",
              "      <td>12</td>\n",
              "      <td>0</td>\n",
              "      <td>2</td>\n",
              "      <td>2.0</td>\n",
              "      <td>0.0</td>\n",
              "      <td>10.0</td>\n",
              "      <td>BB</td>\n",
              "      <td>PRT</td>\n",
              "      <td>TA/TO</td>\n",
              "      <td>0</td>\n",
              "      <td>0</td>\n",
              "      <td>0</td>\n",
              "      <td>D</td>\n",
              "      <td>1</td>\n",
              "      <td>0</td>\n",
              "      <td>Transient</td>\n",
              "      <td>0</td>\n",
              "      <td>1</td>\n",
              "      <td>2</td>\n",
              "    </tr>\n",
              "    <tr>\n",
              "      <th>41528</th>\n",
              "      <td>59925</td>\n",
              "      <td>0</td>\n",
              "      <td>11.0</td>\n",
              "      <td>2015</td>\n",
              "      <td>October</td>\n",
              "      <td>42</td>\n",
              "      <td>11</td>\n",
              "      <td>2</td>\n",
              "      <td>1</td>\n",
              "      <td>1.0</td>\n",
              "      <td>0.0</td>\n",
              "      <td>9.0</td>\n",
              "      <td>BB</td>\n",
              "      <td>GBR</td>\n",
              "      <td>Corporate</td>\n",
              "      <td>0</td>\n",
              "      <td>0</td>\n",
              "      <td>0</td>\n",
              "      <td>A</td>\n",
              "      <td>1</td>\n",
              "      <td>0</td>\n",
              "      <td>Transient-Party</td>\n",
              "      <td>0</td>\n",
              "      <td>0</td>\n",
              "      <td>3</td>\n",
              "    </tr>\n",
              "  </tbody>\n",
              "</table>\n",
              "</div>\n",
              "      <button class=\"colab-df-convert\" onclick=\"convertToInteractive('df-decfc9a2-7164-4535-9c26-5e776d28a80d')\"\n",
              "              title=\"Convert this dataframe to an interactive table.\"\n",
              "              style=\"display:none;\">\n",
              "        \n",
              "  <svg xmlns=\"http://www.w3.org/2000/svg\" height=\"24px\"viewBox=\"0 0 24 24\"\n",
              "       width=\"24px\">\n",
              "    <path d=\"M0 0h24v24H0V0z\" fill=\"none\"/>\n",
              "    <path d=\"M18.56 5.44l.94 2.06.94-2.06 2.06-.94-2.06-.94-.94-2.06-.94 2.06-2.06.94zm-11 1L8.5 8.5l.94-2.06 2.06-.94-2.06-.94L8.5 2.5l-.94 2.06-2.06.94zm10 10l.94 2.06.94-2.06 2.06-.94-2.06-.94-.94-2.06-.94 2.06-2.06.94z\"/><path d=\"M17.41 7.96l-1.37-1.37c-.4-.4-.92-.59-1.43-.59-.52 0-1.04.2-1.43.59L10.3 9.45l-7.72 7.72c-.78.78-.78 2.05 0 2.83L4 21.41c.39.39.9.59 1.41.59.51 0 1.02-.2 1.41-.59l7.78-7.78 2.81-2.81c.8-.78.8-2.07 0-2.86zM5.41 20L4 18.59l7.72-7.72 1.47 1.35L5.41 20z\"/>\n",
              "  </svg>\n",
              "      </button>\n",
              "      \n",
              "  <style>\n",
              "    .colab-df-container {\n",
              "      display:flex;\n",
              "      flex-wrap:wrap;\n",
              "      gap: 12px;\n",
              "    }\n",
              "\n",
              "    .colab-df-convert {\n",
              "      background-color: #E8F0FE;\n",
              "      border: none;\n",
              "      border-radius: 50%;\n",
              "      cursor: pointer;\n",
              "      display: none;\n",
              "      fill: #1967D2;\n",
              "      height: 32px;\n",
              "      padding: 0 0 0 0;\n",
              "      width: 32px;\n",
              "    }\n",
              "\n",
              "    .colab-df-convert:hover {\n",
              "      background-color: #E2EBFA;\n",
              "      box-shadow: 0px 1px 2px rgba(60, 64, 67, 0.3), 0px 1px 3px 1px rgba(60, 64, 67, 0.15);\n",
              "      fill: #174EA6;\n",
              "    }\n",
              "\n",
              "    [theme=dark] .colab-df-convert {\n",
              "      background-color: #3B4455;\n",
              "      fill: #D2E3FC;\n",
              "    }\n",
              "\n",
              "    [theme=dark] .colab-df-convert:hover {\n",
              "      background-color: #434B5C;\n",
              "      box-shadow: 0px 1px 3px 1px rgba(0, 0, 0, 0.15);\n",
              "      filter: drop-shadow(0px 1px 2px rgba(0, 0, 0, 0.3));\n",
              "      fill: #FFFFFF;\n",
              "    }\n",
              "  </style>\n",
              "\n",
              "      <script>\n",
              "        const buttonEl =\n",
              "          document.querySelector('#df-decfc9a2-7164-4535-9c26-5e776d28a80d button.colab-df-convert');\n",
              "        buttonEl.style.display =\n",
              "          google.colab.kernel.accessAllowed ? 'block' : 'none';\n",
              "\n",
              "        async function convertToInteractive(key) {\n",
              "          const element = document.querySelector('#df-decfc9a2-7164-4535-9c26-5e776d28a80d');\n",
              "          const dataTable =\n",
              "            await google.colab.kernel.invokeFunction('convertToInteractive',\n",
              "                                                     [key], {});\n",
              "          if (!dataTable) return;\n",
              "\n",
              "          const docLinkHtml = 'Like what you see? Visit the ' +\n",
              "            '<a target=\"_blank\" href=https://colab.research.google.com/notebooks/data_table.ipynb>data table notebook</a>'\n",
              "            + ' to learn more about interactive tables.';\n",
              "          element.innerHTML = '';\n",
              "          dataTable['output_type'] = 'display_data';\n",
              "          await google.colab.output.renderOutput(dataTable, element);\n",
              "          const docLink = document.createElement('div');\n",
              "          docLink.innerHTML = docLinkHtml;\n",
              "          element.appendChild(docLink);\n",
              "        }\n",
              "      </script>\n",
              "    </div>\n",
              "  </div>\n",
              "  "
            ],
            "text/plain": [
              "          id  is_canceled  lead_time  arrival_date_year arrival_date_month  \\\n",
              "22995  30935            0       37.0               2016            January   \n",
              "41528  59925            0       11.0               2015            October   \n",
              "\n",
              "       arrival_date_week_number  arrival_date_day_of_month  \\\n",
              "22995                         3                         12   \n",
              "41528                        42                         11   \n",
              "\n",
              "       stays_in_weekend_nights  stays_in_week_nights  adults  children  \\\n",
              "22995                        0                     2     2.0       0.0   \n",
              "41528                        2                     1     1.0       0.0   \n",
              "\n",
              "       babies       meal country distribution_channel  is_repeated_guest  \\\n",
              "22995    10.0  BB            PRT                TA/TO                  0   \n",
              "41528     9.0  BB            GBR            Corporate                  0   \n",
              "\n",
              "       previous_cancellations  previous_bookings_not_canceled  \\\n",
              "22995                       0                               0   \n",
              "41528                       0                               0   \n",
              "\n",
              "      reserved_room_type  booking_changes  days_in_waiting_list  \\\n",
              "22995   D                               1                     0   \n",
              "41528   A                               1                     0   \n",
              "\n",
              "         customer_type  required_car_parking_spaces  \\\n",
              "22995        Transient                            0   \n",
              "41528  Transient-Party                            0   \n",
              "\n",
              "       total_of_special_requests  total_nights  \n",
              "22995                          1             2  \n",
              "41528                          0             3  "
            ]
          },
          "metadata": {},
          "execution_count": 7
        }
      ]
    },
    {
      "cell_type": "code",
      "source": [
        "plt.scatter(df['id'], df['babies'])\n",
        "plt.xlabel('Id')\n",
        "plt.ylabel('Babies count')\n",
        "plt.show()"
      ],
      "metadata": {
        "colab": {
          "base_uri": "https://localhost:8080/",
          "height": 279
        },
        "id": "gG0lh8WmzdL8",
        "outputId": "5a3a01ff-a601-43cf-f3ff-4521b0ee0902"
      },
      "execution_count": 8,
      "outputs": [
        {
          "output_type": "display_data",
          "data": {
            "image/png": "[encoded data removed]",
            "text/plain": [
              "<Figure size 432x288 with 1 Axes>"
            ]
          },
          "metadata": {
            "needs_background": "light"
          }
        }
      ]
    },
    {
      "cell_type": "code",
      "source": [
        "df = df.loc[df['babies'] < 3, :]"
      ],
      "metadata": {
        "id": "m4vR4LiOzdOE"
      },
      "execution_count": 9,
      "outputs": []
    },
    {
      "cell_type": "markdown",
      "source": [
        "Let's observe count of previous cancellations"
      ],
      "metadata": {
        "id": "uhepcOu4-0s4"
      }
    },
    {
      "cell_type": "code",
      "source": [
        "plt.scatter(df['id'], df['previous_cancellations'])\n",
        "plt.xlabel('Id')\n",
        "plt.ylabel('Previous cancellations count')\n",
        "plt.show()"
      ],
      "metadata": {
        "colab": {
          "base_uri": "https://localhost:8080/",
          "height": 279
        },
        "id": "bQnwwC4WzdSp",
        "outputId": "327421a3-e490-423e-b28a-112d3502c4fb"
      },
      "execution_count": 10,
      "outputs": [
        {
          "output_type": "display_data",
          "data": {
            "image/png": "[encoded data removed]",
            "text/plain": [
              "<Figure size 432x288 with 1 Axes>"
            ]
          },
          "metadata": {
            "needs_background": "light"
          }
        }
      ]
    },
    {
      "cell_type": "markdown",
      "source": [
        "Which country has the most cancellations?"
      ],
      "metadata": {
        "id": "zp176UwZo2Wn"
      }
    },
    {
      "cell_type": "code",
      "source": [
        "country_cnt = df.groupby('country')['is_canceled'].sum()\n",
        "country_cnt = country_cnt[country_cnt > 0].sort_values(ascending=False)\n",
        "country_cnt = country_cnt[:15]\n",
        "country_cnt"
      ],
      "metadata": {
        "colab": {
          "base_uri": "https://localhost:8080/"
        },
        "id": "DhEKcUQlo12M",
        "outputId": "8b8b7cd6-79a3-4046-ed40-2d4c32181eb7"
      },
      "execution_count": 11,
      "outputs": [
        {
          "output_type": "execute_result",
          "data": {
            "text/plain": [
              "country\n",
              "PRT    16604\n",
              "ESP     1081\n",
              "GBR      938\n",
              "FRA      876\n",
              "ITA      767\n",
              "DEU      541\n",
              "BRA      349\n",
              "IRL      313\n",
              "CHN      234\n",
              "BEL      208\n",
              "USA      192\n",
              "NLD      189\n",
              "CHE      161\n",
              "SWE      114\n",
              "POL      105\n",
              "Name: is_canceled, dtype: int64"
            ]
          },
          "metadata": {},
          "execution_count": 11
        }
      ]
    },
    {
      "cell_type": "code",
      "source": [
        "fig = plt.figure(figsize=(12, 12), dpi=120)\n",
        "ax = fig.add_subplot(111)\n",
        "ax.bar(x=country_cnt.index.values, height=country_cnt.values)\n",
        "plt.xlabel('Name of the country')\n",
        "plt.ylabel('Number of cancellations')\n",
        "plt.show()"
      ],
      "metadata": {
        "colab": {
          "base_uri": "https://localhost:8080/",
          "height": 1000
        },
        "id": "bFXzf_tbpcln",
        "outputId": "2700bc8e-2555-4b4b-b075-a3d209cc500a"
      },
      "execution_count": 12,
      "outputs": [
        {
          "output_type": "display_data",
          "data": {
            "image/png": "[encoded data removed]",
            "text/plain": [
              "<Figure size 1440x1440 with 1 Axes>"
            ]
          },
          "metadata": {
            "needs_background": "light"
          }
        }
      ]
    },
    {
      "cell_type": "markdown",
      "source": [
        "Label encoding\n",
        "\n",
        "There was an error during test preprocessing (encoder met unseen categories, therefore I found this solution helpful:\n",
        "\n",
        "https://stackoverflow.com/a/65538195/14715428"
      ],
      "metadata": {
        "id": "S7coKc95UrxN"
      }
    },
    {
      "cell_type": "code",
      "source": [
        "from sklearn.preprocessing import OrdinalEncoder\n",
        "\n",
        "\n",
        "enc_cols = ['arrival_date_month',\n",
        "            'reserved_room_type',\n",
        "            'meal',\n",
        "            'country',\n",
        "            'distribution_channel',\n",
        "            'customer_type']\n",
        "\n",
        "for col in enc_cols:\n",
        "    # Create encoder\n",
        "    encoder = OrdinalEncoder(handle_unknown='use_encoded_value',\n",
        "                             unknown_value=-1)\n",
        "    # reshape the 1-D country array to 2-D as fit_transform expects 2-D and finally fit the object \n",
        "    X = encoder.fit_transform(df[col].values.reshape(-1,1))\n",
        "    X_test = encoder.transform(df_test[col].values.reshape(-1,1))\n",
        "\n",
        "    # add this back into the original dataframe \n",
        "    encoded = pd.DataFrame(X, columns=[col + \"_enc\"])\n",
        "    df = pd.concat([df, encoded], axis=1)\n",
        "\n",
        "    encoded = pd.DataFrame(X_test, columns=[col + \"_enc\"])\n",
        "    df_test = pd.concat([df_test, encoded], axis=1)\n",
        "\n",
        "    df = df.drop([col], axis=1)\n",
        "    df_test = df_test.drop([col], axis=1)\n",
        "\n",
        "print(df.info())"
      ],
      "metadata": {
        "colab": {
          "base_uri": "https://localhost:8080/"
        },
        "id": "bG_aI5N1Uq-Q",
        "outputId": "c1429ceb-1f7d-46d3-af02-d82a75ca8333"
      },
      "execution_count": 13,
      "outputs": [
        {
          "output_type": "stream",
          "name": "stdout",
          "text": [
            "<class 'pandas.core.frame.DataFrame'>\n",
            "Int64Index: 65229 entries, 0 to 65228\n",
            "Data columns (total 25 columns):\n",
            " #   Column                          Non-Null Count  Dtype  \n",
            "---  ------                          --------------  -----  \n",
            " 0   id                              65227 non-null  float64\n",
            " 1   is_canceled                     65227 non-null  float64\n",
            " 2   lead_time                       65227 non-null  float64\n",
            " 3   arrival_date_year               65227 non-null  float64\n",
            " 4   arrival_date_week_number        65227 non-null  float64\n",
            " 5   arrival_date_day_of_month       65227 non-null  float64\n",
            " 6   stays_in_weekend_nights         65227 non-null  float64\n",
            " 7   stays_in_week_nights            65227 non-null  float64\n",
            " 8   adults                          65227 non-null  float64\n",
            " 9   children                        65227 non-null  float64\n",
            " 10  babies                          65227 non-null  float64\n",
            " 11  is_repeated_guest               65227 non-null  float64\n",
            " 12  previous_cancellations          65227 non-null  float64\n",
            " 13  previous_bookings_not_canceled  65227 non-null  float64\n",
            " 14  booking_changes                 65227 non-null  float64\n",
            " 15  days_in_waiting_list            65227 non-null  float64\n",
            " 16  required_car_parking_spaces     65227 non-null  float64\n",
            " 17  total_of_special_requests       65227 non-null  float64\n",
            " 18  total_nights                    65227 non-null  float64\n",
            " 19  arrival_date_month_enc          65227 non-null  float64\n",
            " 20  reserved_room_type_enc          65227 non-null  float64\n",
            " 21  meal_enc                        65227 non-null  float64\n",
            " 22  country_enc                     65227 non-null  float64\n",
            " 23  distribution_channel_enc        65227 non-null  float64\n",
            " 24  customer_type_enc               65227 non-null  float64\n",
            "dtypes: float64(25)\n",
            "memory usage: 12.9 MB\n",
            "None\n"
          ]
        }
      ]
    },
    {
      "cell_type": "markdown",
      "source": [
        "## Model"
      ],
      "metadata": {
        "id": "XQwWI1i-TpN8"
      }
    },
    {
      "cell_type": "code",
      "source": [
        "# X, y split\n",
        "\n",
        "X = df.drop(['is_canceled', 'id'], axis=1)\n",
        "y = df['is_canceled'].values.astype('bool')\n",
        "X_test = df_test.drop(['is_canceled', 'id'], axis=1)\n",
        "y_test = df_test['is_canceled'].values.astype('bool')"
      ],
      "metadata": {
        "id": "fKvTrnMPUSct"
      },
      "execution_count": 14,
      "outputs": []
    },
    {
      "cell_type": "code",
      "source": [
        "from sklearn.model_selection import train_test_split\n",
        "\n",
        "# Validation split\n",
        "X_train, X_valid, y_train, y_valid = train_test_split(X, y, test_size=0.3,\n",
        "                                                      shuffle=True,\n",
        "                                                      random_state=13)\n",
        "\n",
        "# y_train, y_valid = y_train.values.astype('bool'), y_valid.values.astype('bool')"
      ],
      "metadata": {
        "id": "7kmB3xVuUEZj"
      },
      "execution_count": 15,
      "outputs": []
    },
    {
      "cell_type": "code",
      "source": [
        "import xgboost as xgb\n",
        "\n",
        "eval_set = [(X_train, y_train), (X_valid, y_valid)]\n",
        "xgbr = xgb.XGBClassifier(eta=0.0001,\n",
        "                         max_depth=5,\n",
        "                         colsample_bytree=0.9,\n",
        "                         min_child_weight=5,\n",
        "                         gamma=1.5,\n",
        "                         objective='binary:logistic',\n",
        "                         tree_method='gpu_hist',\n",
        "                         random_state=13,\n",
        "                         verbosity=2)"
      ],
      "metadata": {
        "id": "V2yDzCyAzdU-"
      },
      "execution_count": 16,
      "outputs": []
    },
    {
      "cell_type": "code",
      "source": [
        "xgbr.fit(X_train, y_train,\n",
        "         eval_metric=['logloss', 'logloss'], eval_set=eval_set,\n",
        "         early_stopping_rounds=400, verbose=2)"
      ],
      "metadata": {
        "id": "EE97M0xhzdW0",
        "colab": {
          "base_uri": "https://localhost:8080/"
        },
        "outputId": "2062aeda-c1ab-43c6-8df7-6bd6d5b4b24c"
      },
      "execution_count": 17,
      "outputs": [
        {
          "output_type": "stream",
          "name": "stdout",
          "text": [
            "[0]\tvalidation_0-logloss:0.650637\tvalidation_1-logloss:0.651801\n",
            "Multiple eval metrics have been passed: 'validation_1-logloss' will be used for early stopping.\n",
            "\n",
            "Will train until validation_1-logloss hasn't improved in 400 rounds.\n",
            "[2]\tvalidation_0-logloss:0.587974\tvalidation_1-logloss:0.5907\n",
            "[4]\tvalidation_0-logloss:0.542741\tvalidation_1-logloss:0.546593\n",
            "[6]\tvalidation_0-logloss:0.509697\tvalidation_1-logloss:0.514693\n",
            "[8]\tvalidation_0-logloss:0.483495\tvalidation_1-logloss:0.489428\n",
            "[10]\tvalidation_0-logloss:0.461824\tvalidation_1-logloss:0.468392\n",
            "[12]\tvalidation_0-logloss:0.444716\tvalidation_1-logloss:0.451717\n",
            "[14]\tvalidation_0-logloss:0.431349\tvalidation_1-logloss:0.438852\n",
            "[16]\tvalidation_0-logloss:0.419796\tvalidation_1-logloss:0.427704\n",
            "[18]\tvalidation_0-logloss:0.411304\tvalidation_1-logloss:0.419446\n",
            "[20]\tvalidation_0-logloss:0.403035\tvalidation_1-logloss:0.411795\n",
            "[22]\tvalidation_0-logloss:0.394715\tvalidation_1-logloss:0.404018\n",
            "[24]\tvalidation_0-logloss:0.389282\tvalidation_1-logloss:0.398713\n",
            "[26]\tvalidation_0-logloss:0.383411\tvalidation_1-logloss:0.393245\n",
            "[28]\tvalidation_0-logloss:0.377931\tvalidation_1-logloss:0.388025\n",
            "[30]\tvalidation_0-logloss:0.374638\tvalidation_1-logloss:0.38491\n",
            "[32]\tvalidation_0-logloss:0.371679\tvalidation_1-logloss:0.382017\n",
            "[34]\tvalidation_0-logloss:0.368617\tvalidation_1-logloss:0.379161\n",
            "[36]\tvalidation_0-logloss:0.3648\tvalidation_1-logloss:0.375507\n",
            "[38]\tvalidation_0-logloss:0.362316\tvalidation_1-logloss:0.37328\n",
            "[40]\tvalidation_0-logloss:0.360038\tvalidation_1-logloss:0.371299\n",
            "[42]\tvalidation_0-logloss:0.357656\tvalidation_1-logloss:0.369113\n",
            "[44]\tvalidation_0-logloss:0.355875\tvalidation_1-logloss:0.367455\n",
            "[46]\tvalidation_0-logloss:0.353865\tvalidation_1-logloss:0.365739\n",
            "[48]\tvalidation_0-logloss:0.351429\tvalidation_1-logloss:0.363399\n",
            "[50]\tvalidation_0-logloss:0.349853\tvalidation_1-logloss:0.362056\n",
            "[52]\tvalidation_0-logloss:0.347867\tvalidation_1-logloss:0.360311\n",
            "[54]\tvalidation_0-logloss:0.346591\tvalidation_1-logloss:0.359255\n",
            "[56]\tvalidation_0-logloss:0.344664\tvalidation_1-logloss:0.357578\n",
            "[58]\tvalidation_0-logloss:0.342704\tvalidation_1-logloss:0.355829\n",
            "[60]\tvalidation_0-logloss:0.341344\tvalidation_1-logloss:0.354621\n",
            "[62]\tvalidation_0-logloss:0.339865\tvalidation_1-logloss:0.353357\n",
            "[64]\tvalidation_0-logloss:0.338497\tvalidation_1-logloss:0.352088\n",
            "[66]\tvalidation_0-logloss:0.337456\tvalidation_1-logloss:0.351196\n",
            "[68]\tvalidation_0-logloss:0.335988\tvalidation_1-logloss:0.349951\n",
            "[70]\tvalidation_0-logloss:0.334584\tvalidation_1-logloss:0.348722\n",
            "[72]\tvalidation_0-logloss:0.333708\tvalidation_1-logloss:0.347999\n",
            "[74]\tvalidation_0-logloss:0.332145\tvalidation_1-logloss:0.346567\n",
            "[76]\tvalidation_0-logloss:0.331167\tvalidation_1-logloss:0.345803\n",
            "[78]\tvalidation_0-logloss:0.330363\tvalidation_1-logloss:0.345201\n",
            "[80]\tvalidation_0-logloss:0.329398\tvalidation_1-logloss:0.344323\n",
            "[82]\tvalidation_0-logloss:0.328301\tvalidation_1-logloss:0.343373\n",
            "[84]\tvalidation_0-logloss:0.327146\tvalidation_1-logloss:0.342553\n",
            "[86]\tvalidation_0-logloss:0.326085\tvalidation_1-logloss:0.341814\n",
            "[88]\tvalidation_0-logloss:0.325631\tvalidation_1-logloss:0.341524\n",
            "[90]\tvalidation_0-logloss:0.325093\tvalidation_1-logloss:0.341071\n",
            "[92]\tvalidation_0-logloss:0.323903\tvalidation_1-logloss:0.340083\n",
            "[94]\tvalidation_0-logloss:0.322425\tvalidation_1-logloss:0.33891\n",
            "[96]\tvalidation_0-logloss:0.322007\tvalidation_1-logloss:0.338536\n",
            "[98]\tvalidation_0-logloss:0.321056\tvalidation_1-logloss:0.337851\n",
            "[99]\tvalidation_0-logloss:0.320555\tvalidation_1-logloss:0.337517\n"
          ]
        },
        {
          "output_type": "execute_result",
          "data": {
            "text/plain": [
              "XGBClassifier(colsample_bytree=0.9, eta=0.0001, gamma=1.5, max_depth=5,\n",
              "              min_child_weight=5, random_state=13, tree_method='gpu_hist',\n",
              "              verbosity=2)"
            ]
          },
          "metadata": {},
          "execution_count": 17
        }
      ]
    },
    {
      "cell_type": "code",
      "source": [
        "from sklearn.metrics import roc_curve, auc, accuracy_score\n",
        "\n",
        "# calculate the fpr and tpr for all thresholds of the binary classification\n",
        "probs = xgbr.predict_proba(X_test)\n",
        "preds = probs[:,1]\n",
        "fpr, tpr, threshold = roc_curve(y_test, preds)\n",
        "roc_auc = auc(fpr, tpr)"
      ],
      "metadata": {
        "id": "T60NxHvkZcO3"
      },
      "execution_count": 18,
      "outputs": []
    },
    {
      "cell_type": "code",
      "source": [
        "# plot\n",
        "\n",
        "plt.title('Receiver Operating Characteristic')\n",
        "plt.plot(fpr, tpr, 'b', label = 'AUC = %0.2f' % roc_auc)\n",
        "plt.legend(loc = 'lower right')\n",
        "plt.plot([0, 1], [0, 1],'r--')\n",
        "plt.xlim([0, 1])\n",
        "plt.ylim([0, 1])\n",
        "plt.ylabel('True Positive Rate')\n",
        "plt.xlabel('False Positive Rate')\n",
        "plt.show()"
      ],
      "metadata": {
        "colab": {
          "base_uri": "https://localhost:8080/",
          "height": 295
        },
        "id": "ufplJ9I3ZcQ6",
        "outputId": "c550de6a-6fd3-48f6-d572-0a4029bf743c"
      },
      "execution_count": 19,
      "outputs": [
        {
          "output_type": "display_data",
          "data": {
            "image/png": "[encoded data removed]",
            "text/plain": [
              "<Figure size 432x288 with 1 Axes>"
            ]
          },
          "metadata": {
            "needs_background": "light"
          }
        }
      ]
    },
    {
      "cell_type": "code",
      "source": [
        "y_train_pred = xgbr.predict(X_train)\n",
        "score = accuracy_score(y_train, y_train_pred)\n",
        "print(score)"
      ],
      "metadata": {
        "id": "Vdq7LpspZcVD",
        "colab": {
          "base_uri": "https://localhost:8080/"
        },
        "outputId": "980bb635-dae6-4111-d28f-3cbfbe15e79e"
      },
      "execution_count": 20,
      "outputs": [
        {
          "output_type": "stream",
          "name": "stdout",
          "text": [
            "0.857993867717915\n"
          ]
        }
      ]
    },
    {
      "cell_type": "code",
      "source": [
        "y_valid_pred = xgbr.predict(X_valid)\n",
        "score = accuracy_score(y_valid, y_valid_pred)\n",
        "print(score)"
      ],
      "metadata": {
        "id": "QLOZcsTFZcW7",
        "colab": {
          "base_uri": "https://localhost:8080/"
        },
        "outputId": "d53d5382-ec17-4f94-daab-a1b7923e4b06"
      },
      "execution_count": 21,
      "outputs": [
        {
          "output_type": "stream",
          "name": "stdout",
          "text": [
            "0.8477183300117532\n"
          ]
        }
      ]
    },
    {
      "cell_type": "code",
      "source": [
        "y_pred = xgbr.predict(X_test)\n",
        "score = accuracy_score(y_test, y_pred)\n",
        "print(score)"
      ],
      "metadata": {
        "colab": {
          "base_uri": "https://localhost:8080/"
        },
        "id": "bi7C8EOzZcTB",
        "outputId": "006a48a1-5d58-497b-ebe5-1e2803470f57"
      },
      "execution_count": 22,
      "outputs": [
        {
          "output_type": "stream",
          "name": "stdout",
          "text": [
            "0.7720597309638405\n"
          ]
        }
      ]
    },
    {
      "cell_type": "code",
      "source": [
        "from xgboost import plot_importance\n",
        "import matplotlib.pyplot as plt\n",
        "\n",
        "\n",
        "def plot_features(booster, figsize):    \n",
        "    fig, ax = plt.subplots(1, 1, figsize=figsize)\n",
        "    return plot_importance(booster=booster, ax=ax)"
      ],
      "metadata": {
        "id": "nYdD9SRKd2q0"
      },
      "execution_count": 23,
      "outputs": []
    },
    {
      "cell_type": "code",
      "source": [
        "plot_features(xgbr, (10, 14))"
      ],
      "metadata": {
        "colab": {
          "base_uri": "https://localhost:8080/",
          "height": 856
        },
        "id": "hL2WPQV_d2tA",
        "outputId": "a886386f-164f-44e1-b527-b24a2f5a35f9"
      },
      "execution_count": 24,
      "outputs": [
        {
          "output_type": "execute_result",
          "data": {
            "text/plain": [
              "<matplotlib.axes._subplots.AxesSubplot at 0x7efec550d4d0>"
            ]
          },
          "metadata": {},
          "execution_count": 24
        },
        {
          "output_type": "display_data",
          "data": {
            "image/png": "[encoded data removed]",
            "text/plain": [
              "<Figure size 720x1008 with 1 Axes>"
            ]
          },
          "metadata": {
            "needs_background": "light"
          }
        }
      ]
    },
    {
      "cell_type": "code",
      "source": [
        ""
      ],
      "metadata": {
        "id": "1gvC6xwGd2vL"
      },
      "execution_count": null,
      "outputs": []
    },
    {
      "cell_type": "code",
      "source": [
        ""
      ],
      "metadata": {
        "id": "U2sF-HXTd2yE"
      },
      "execution_count": null,
      "outputs": []
    },
    {
      "cell_type": "code",
      "source": [
        ""
      ],
      "metadata": {
        "id": "-5w91gIZd2zS"
      },
      "execution_count": null,
      "outputs": []
    }
  ]
}