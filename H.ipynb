{
  "nbformat": 4,
  "nbformat_minor": 0,
  "metadata": {
    "colab": {
      "name": "H.ipynb",
      "provenance": [],
      "collapsed_sections": [],
      "mount_file_id": "156t5ihOBFGq50J3sludKobjIv83hd63q",
      "authorship_tag": "ABX9TyNiVyrCfJCJ3vkQxBGF59tf"
    },
    "kernelspec": {
      "name": "python3",
      "display_name": "Python 3"
    },
    "language_info": {
      "name": "python"
    },
    "accelerator": "GPU"
  },
  "cells": [
    {
      "cell_type": "code",
      "source": [
        "from google.colab import drive\n",
        "drive.mount('/content/drive')"
      ],
      "metadata": {
        "colab": {
          "base_uri": "https://localhost:8080/"
        },
        "id": "isjK6MFPy_8H",
        "outputId": "3c523a73-b320-41f6-d61c-d7d32d420d4b"
      },
      "execution_count": 1,
      "outputs": [
        {
          "output_type": "stream",
          "name": "stdout",
          "text": [
            "Mounted at /content/drive\n"
          ]
        }
      ]
    },
    {
      "cell_type": "markdown",
      "source": [
        "## Data"
      ],
      "metadata": {
        "id": "xriTId-ZTkuo"
      }
    },
    {
      "cell_type": "code",
      "execution_count": 2,
      "metadata": {
        "colab": {
          "base_uri": "https://localhost:8080/"
        },
        "id": "4RRzopDLy3uL",
        "outputId": "00edf81c-e39e-45fa-acf3-1502778a7950"
      },
      "outputs": [
        {
          "output_type": "stream",
          "name": "stdout",
          "text": [
            "Train shape: (65229, 25)\n",
            "Test shape: (32412, 25)\n"
          ]
        }
      ],
      "source": [
        "import pandas as pd\n",
        "import numpy as np\n",
        "import matplotlib.pyplot as plt\n",
        "\n",
        "path = '/content/drive/MyDrive/Hotel System/'\n",
        "df = pd.read_csv(path + 'hotel_train.csv')\n",
        "df_test = pd.read_csv(path + 'hotel_test.csv')\n",
        "\n",
        "print(f'Train shape: {df.shape}')\n",
        "print(f'Test shape: {df_test.shape}')"
      ]
    },
    {
      "cell_type": "code",
      "source": [
        "print(df.head())"
      ],
      "metadata": {
        "colab": {
          "base_uri": "https://localhost:8080/"
        },
        "id": "x6-Q44IAzcmc",
        "outputId": "aa7b0a56-e4e5-4f11-da20-7945b07264ae"
      },
      "execution_count": 3,
      "outputs": [
        {
          "output_type": "stream",
          "name": "stdout",
          "text": [
            "   id  is_canceled  ...  total_of_special_requests  total_nights\n",
            "0   0            0  ...                          0             1\n",
            "1   1            0  ...                          1             2\n",
            "2   2            0  ...                          0             2\n",
            "3   3            0  ...                          1             2\n",
            "4   4            1  ...                          1             3\n",
            "\n",
            "[5 rows x 25 columns]\n"
          ]
        }
      ]
    },
    {
      "cell_type": "markdown",
      "source": [
        "Somebody has 10 babies with him/her. And somebody cancelled 26 reservations in the past."
      ],
      "metadata": {
        "id": "Fc7_0rl861XY"
      }
    },
    {
      "cell_type": "code",
      "source": [
        "df.describe()"
      ],
      "metadata": {
        "colab": {
          "base_uri": "https://localhost:8080/",
          "height": 364
        },
        "id": "5MGiPaRe6dFj",
        "outputId": "52727cc2-9dc0-4cae-8764-802618a6411a"
      },
      "execution_count": 4,
      "outputs": [
        {
          "output_type": "execute_result",
          "data": {
            "text/html": [
              "\n",
              "  <div id=\"df-5292e466-7a54-4bd3-b722-2ed66ff20765\">\n",
              "    <div class=\"colab-df-container\">\n",
              "      <div>\n",
              "<style scoped>\n",
              "    .dataframe tbody tr th:only-of-type {\n",
              "        vertical-align: middle;\n",
              "    }\n",
              "\n",
              "    .dataframe tbody tr th {\n",
              "        vertical-align: top;\n",
              "    }\n",
              "\n",
              "    .dataframe thead th {\n",
              "        text-align: right;\n",
              "    }\n",
              "</style>\n",
              "<table border=\"1\" class=\"dataframe\">\n",
              "  <thead>\n",
              "    <tr style=\"text-align: right;\">\n",
              "      <th></th>\n",
              "      <th>id</th>\n",
              "      <th>is_canceled</th>\n",
              "      <th>lead_time</th>\n",
              "      <th>arrival_date_year</th>\n",
              "      <th>arrival_date_week_number</th>\n",
              "      <th>arrival_date_day_of_month</th>\n",
              "      <th>stays_in_weekend_nights</th>\n",
              "      <th>stays_in_week_nights</th>\n",
              "      <th>adults</th>\n",
              "      <th>children</th>\n",
              "      <th>babies</th>\n",
              "      <th>is_repeated_guest</th>\n",
              "      <th>previous_cancellations</th>\n",
              "      <th>previous_bookings_not_canceled</th>\n",
              "      <th>booking_changes</th>\n",
              "      <th>days_in_waiting_list</th>\n",
              "      <th>required_car_parking_spaces</th>\n",
              "      <th>total_of_special_requests</th>\n",
              "      <th>total_nights</th>\n",
              "    </tr>\n",
              "  </thead>\n",
              "  <tbody>\n",
              "    <tr>\n",
              "      <th>count</th>\n",
              "      <td>65229.000000</td>\n",
              "      <td>65229.000000</td>\n",
              "      <td>65229.000000</td>\n",
              "      <td>65229.000000</td>\n",
              "      <td>65229.000000</td>\n",
              "      <td>65229.000000</td>\n",
              "      <td>65229.000000</td>\n",
              "      <td>65229.000000</td>\n",
              "      <td>65229.000000</td>\n",
              "      <td>65229.000000</td>\n",
              "      <td>65229.000000</td>\n",
              "      <td>65229.000000</td>\n",
              "      <td>65229.000000</td>\n",
              "      <td>65229.000000</td>\n",
              "      <td>65229.000000</td>\n",
              "      <td>65229.000000</td>\n",
              "      <td>65229.000000</td>\n",
              "      <td>65229.000000</td>\n",
              "      <td>65229.000000</td>\n",
              "    </tr>\n",
              "    <tr>\n",
              "      <th>mean</th>\n",
              "      <td>43544.069172</td>\n",
              "      <td>0.368609</td>\n",
              "      <td>96.337917</td>\n",
              "      <td>2015.719021</td>\n",
              "      <td>31.339772</td>\n",
              "      <td>15.847813</td>\n",
              "      <td>0.825185</td>\n",
              "      <td>2.224793</td>\n",
              "      <td>1.836576</td>\n",
              "      <td>0.074890</td>\n",
              "      <td>0.007236</td>\n",
              "      <td>0.027151</td>\n",
              "      <td>0.128915</td>\n",
              "      <td>0.107713</td>\n",
              "      <td>0.194269</td>\n",
              "      <td>3.334422</td>\n",
              "      <td>0.056647</td>\n",
              "      <td>0.512763</td>\n",
              "      <td>3.049978</td>\n",
              "    </tr>\n",
              "    <tr>\n",
              "      <th>std</th>\n",
              "      <td>25614.858971</td>\n",
              "      <td>0.482431</td>\n",
              "      <td>96.127545</td>\n",
              "      <td>0.449481</td>\n",
              "      <td>13.464024</td>\n",
              "      <td>8.748182</td>\n",
              "      <td>0.853477</td>\n",
              "      <td>1.354992</td>\n",
              "      <td>0.480245</td>\n",
              "      <td>0.334243</td>\n",
              "      <td>0.098790</td>\n",
              "      <td>0.162523</td>\n",
              "      <td>0.965326</td>\n",
              "      <td>1.326638</td>\n",
              "      <td>0.593838</td>\n",
              "      <td>18.239606</td>\n",
              "      <td>0.232094</td>\n",
              "      <td>0.752590</td>\n",
              "      <td>1.738108</td>\n",
              "    </tr>\n",
              "    <tr>\n",
              "      <th>min</th>\n",
              "      <td>0.000000</td>\n",
              "      <td>0.000000</td>\n",
              "      <td>0.000000</td>\n",
              "      <td>2015.000000</td>\n",
              "      <td>1.000000</td>\n",
              "      <td>1.000000</td>\n",
              "      <td>0.000000</td>\n",
              "      <td>0.000000</td>\n",
              "      <td>0.000000</td>\n",
              "      <td>0.000000</td>\n",
              "      <td>0.000000</td>\n",
              "      <td>0.000000</td>\n",
              "      <td>0.000000</td>\n",
              "      <td>0.000000</td>\n",
              "      <td>0.000000</td>\n",
              "      <td>0.000000</td>\n",
              "      <td>0.000000</td>\n",
              "      <td>0.000000</td>\n",
              "      <td>1.000000</td>\n",
              "    </tr>\n",
              "    <tr>\n",
              "      <th>25%</th>\n",
              "      <td>19108.000000</td>\n",
              "      <td>0.000000</td>\n",
              "      <td>17.000000</td>\n",
              "      <td>2015.000000</td>\n",
              "      <td>21.000000</td>\n",
              "      <td>8.000000</td>\n",
              "      <td>0.000000</td>\n",
              "      <td>1.000000</td>\n",
              "      <td>2.000000</td>\n",
              "      <td>0.000000</td>\n",
              "      <td>0.000000</td>\n",
              "      <td>0.000000</td>\n",
              "      <td>0.000000</td>\n",
              "      <td>0.000000</td>\n",
              "      <td>0.000000</td>\n",
              "      <td>0.000000</td>\n",
              "      <td>0.000000</td>\n",
              "      <td>0.000000</td>\n",
              "      <td>2.000000</td>\n",
              "    </tr>\n",
              "    <tr>\n",
              "      <th>50%</th>\n",
              "      <td>40554.000000</td>\n",
              "      <td>0.000000</td>\n",
              "      <td>64.000000</td>\n",
              "      <td>2016.000000</td>\n",
              "      <td>34.000000</td>\n",
              "      <td>16.000000</td>\n",
              "      <td>1.000000</td>\n",
              "      <td>2.000000</td>\n",
              "      <td>2.000000</td>\n",
              "      <td>0.000000</td>\n",
              "      <td>0.000000</td>\n",
              "      <td>0.000000</td>\n",
              "      <td>0.000000</td>\n",
              "      <td>0.000000</td>\n",
              "      <td>0.000000</td>\n",
              "      <td>0.000000</td>\n",
              "      <td>0.000000</td>\n",
              "      <td>0.000000</td>\n",
              "      <td>3.000000</td>\n",
              "    </tr>\n",
              "    <tr>\n",
              "      <th>75%</th>\n",
              "      <td>67414.000000</td>\n",
              "      <td>1.000000</td>\n",
              "      <td>151.000000</td>\n",
              "      <td>2016.000000</td>\n",
              "      <td>42.000000</td>\n",
              "      <td>23.000000</td>\n",
              "      <td>2.000000</td>\n",
              "      <td>3.000000</td>\n",
              "      <td>2.000000</td>\n",
              "      <td>0.000000</td>\n",
              "      <td>0.000000</td>\n",
              "      <td>0.000000</td>\n",
              "      <td>0.000000</td>\n",
              "      <td>0.000000</td>\n",
              "      <td>0.000000</td>\n",
              "      <td>0.000000</td>\n",
              "      <td>0.000000</td>\n",
              "      <td>1.000000</td>\n",
              "      <td>4.000000</td>\n",
              "    </tr>\n",
              "    <tr>\n",
              "      <th>max</th>\n",
              "      <td>84121.000000</td>\n",
              "      <td>1.000000</td>\n",
              "      <td>374.000000</td>\n",
              "      <td>2016.000000</td>\n",
              "      <td>53.000000</td>\n",
              "      <td>31.000000</td>\n",
              "      <td>4.000000</td>\n",
              "      <td>6.000000</td>\n",
              "      <td>4.000000</td>\n",
              "      <td>3.000000</td>\n",
              "      <td>10.000000</td>\n",
              "      <td>1.000000</td>\n",
              "      <td>26.000000</td>\n",
              "      <td>58.000000</td>\n",
              "      <td>17.000000</td>\n",
              "      <td>259.000000</td>\n",
              "      <td>3.000000</td>\n",
              "      <td>5.000000</td>\n",
              "      <td>10.000000</td>\n",
              "    </tr>\n",
              "  </tbody>\n",
              "</table>\n",
              "</div>\n",
              "      <button class=\"colab-df-convert\" onclick=\"convertToInteractive('df-5292e466-7a54-4bd3-b722-2ed66ff20765')\"\n",
              "              title=\"Convert this dataframe to an interactive table.\"\n",
              "              style=\"display:none;\">\n",
              "        \n",
              "  <svg xmlns=\"http://www.w3.org/2000/svg\" height=\"24px\"viewBox=\"0 0 24 24\"\n",
              "       width=\"24px\">\n",
              "    <path d=\"M0 0h24v24H0V0z\" fill=\"none\"/>\n",
              "    <path d=\"M18.56 5.44l.94 2.06.94-2.06 2.06-.94-2.06-.94-.94-2.06-.94 2.06-2.06.94zm-11 1L8.5 8.5l.94-2.06 2.06-.94-2.06-.94L8.5 2.5l-.94 2.06-2.06.94zm10 10l.94 2.06.94-2.06 2.06-.94-2.06-.94-.94-2.06-.94 2.06-2.06.94z\"/><path d=\"M17.41 7.96l-1.37-1.37c-.4-.4-.92-.59-1.43-.59-.52 0-1.04.2-1.43.59L10.3 9.45l-7.72 7.72c-.78.78-.78 2.05 0 2.83L4 21.41c.39.39.9.59 1.41.59.51 0 1.02-.2 1.41-.59l7.78-7.78 2.81-2.81c.8-.78.8-2.07 0-2.86zM5.41 20L4 18.59l7.72-7.72 1.47 1.35L5.41 20z\"/>\n",
              "  </svg>\n",
              "      </button>\n",
              "      \n",
              "  <style>\n",
              "    .colab-df-container {\n",
              "      display:flex;\n",
              "      flex-wrap:wrap;\n",
              "      gap: 12px;\n",
              "    }\n",
              "\n",
              "    .colab-df-convert {\n",
              "      background-color: #E8F0FE;\n",
              "      border: none;\n",
              "      border-radius: 50%;\n",
              "      cursor: pointer;\n",
              "      display: none;\n",
              "      fill: #1967D2;\n",
              "      height: 32px;\n",
              "      padding: 0 0 0 0;\n",
              "      width: 32px;\n",
              "    }\n",
              "\n",
              "    .colab-df-convert:hover {\n",
              "      background-color: #E2EBFA;\n",
              "      box-shadow: 0px 1px 2px rgba(60, 64, 67, 0.3), 0px 1px 3px 1px rgba(60, 64, 67, 0.15);\n",
              "      fill: #174EA6;\n",
              "    }\n",
              "\n",
              "    [theme=dark] .colab-df-convert {\n",
              "      background-color: #3B4455;\n",
              "      fill: #D2E3FC;\n",
              "    }\n",
              "\n",
              "    [theme=dark] .colab-df-convert:hover {\n",
              "      background-color: #434B5C;\n",
              "      box-shadow: 0px 1px 3px 1px rgba(0, 0, 0, 0.15);\n",
              "      filter: drop-shadow(0px 1px 2px rgba(0, 0, 0, 0.3));\n",
              "      fill: #FFFFFF;\n",
              "    }\n",
              "  </style>\n",
              "\n",
              "      <script>\n",
              "        const buttonEl =\n",
              "          document.querySelector('#df-5292e466-7a54-4bd3-b722-2ed66ff20765 button.colab-df-convert');\n",
              "        buttonEl.style.display =\n",
              "          google.colab.kernel.accessAllowed ? 'block' : 'none';\n",
              "\n",
              "        async function convertToInteractive(key) {\n",
              "          const element = document.querySelector('#df-5292e466-7a54-4bd3-b722-2ed66ff20765');\n",
              "          const dataTable =\n",
              "            await google.colab.kernel.invokeFunction('convertToInteractive',\n",
              "                                                     [key], {});\n",
              "          if (!dataTable) return;\n",
              "\n",
              "          const docLinkHtml = 'Like what you see? Visit the ' +\n",
              "            '<a target=\"_blank\" href=https://colab.research.google.com/notebooks/data_table.ipynb>data table notebook</a>'\n",
              "            + ' to learn more about interactive tables.';\n",
              "          element.innerHTML = '';\n",
              "          dataTable['output_type'] = 'display_data';\n",
              "          await google.colab.output.renderOutput(dataTable, element);\n",
              "          const docLink = document.createElement('div');\n",
              "          docLink.innerHTML = docLinkHtml;\n",
              "          element.appendChild(docLink);\n",
              "        }\n",
              "      </script>\n",
              "    </div>\n",
              "  </div>\n",
              "  "
            ],
            "text/plain": [
              "                 id   is_canceled  ...  total_of_special_requests  total_nights\n",
              "count  65229.000000  65229.000000  ...               65229.000000  65229.000000\n",
              "mean   43544.069172      0.368609  ...                   0.512763      3.049978\n",
              "std    25614.858971      0.482431  ...                   0.752590      1.738108\n",
              "min        0.000000      0.000000  ...                   0.000000      1.000000\n",
              "25%    19108.000000      0.000000  ...                   0.000000      2.000000\n",
              "50%    40554.000000      0.000000  ...                   0.000000      3.000000\n",
              "75%    67414.000000      1.000000  ...                   1.000000      4.000000\n",
              "max    84121.000000      1.000000  ...                   5.000000     10.000000\n",
              "\n",
              "[8 rows x 19 columns]"
            ]
          },
          "metadata": {},
          "execution_count": 4
        }
      ]
    },
    {
      "cell_type": "markdown",
      "source": [
        "Seems like perfect data for me"
      ],
      "metadata": {
        "id": "8uJYnyPA5o0b"
      }
    },
    {
      "cell_type": "code",
      "source": [
        "df.info()"
      ],
      "metadata": {
        "colab": {
          "base_uri": "https://localhost:8080/"
        },
        "id": "E1q2P7_08V_K",
        "outputId": "c0182fde-8782-44b8-f9a7-364d376622ad"
      },
      "execution_count": 5,
      "outputs": [
        {
          "output_type": "stream",
          "name": "stdout",
          "text": [
            "<class 'pandas.core.frame.DataFrame'>\n",
            "RangeIndex: 65229 entries, 0 to 65228\n",
            "Data columns (total 25 columns):\n",
            " #   Column                          Non-Null Count  Dtype  \n",
            "---  ------                          --------------  -----  \n",
            " 0   id                              65229 non-null  int64  \n",
            " 1   is_canceled                     65229 non-null  int64  \n",
            " 2   lead_time                       65229 non-null  float64\n",
            " 3   arrival_date_year               65229 non-null  int64  \n",
            " 4   arrival_date_month              65229 non-null  object \n",
            " 5   arrival_date_week_number        65229 non-null  int64  \n",
            " 6   arrival_date_day_of_month       65229 non-null  int64  \n",
            " 7   stays_in_weekend_nights         65229 non-null  int64  \n",
            " 8   stays_in_week_nights            65229 non-null  int64  \n",
            " 9   adults                          65229 non-null  float64\n",
            " 10  children                        65229 non-null  float64\n",
            " 11  babies                          65229 non-null  float64\n",
            " 12  meal                            65229 non-null  object \n",
            " 13  country                         65229 non-null  object \n",
            " 14  distribution_channel            65229 non-null  object \n",
            " 15  is_repeated_guest               65229 non-null  int64  \n",
            " 16  previous_cancellations          65229 non-null  int64  \n",
            " 17  previous_bookings_not_canceled  65229 non-null  int64  \n",
            " 18  reserved_room_type              65229 non-null  object \n",
            " 19  booking_changes                 65229 non-null  int64  \n",
            " 20  days_in_waiting_list            65229 non-null  int64  \n",
            " 21  customer_type                   65229 non-null  object \n",
            " 22  required_car_parking_spaces     65229 non-null  int64  \n",
            " 23  total_of_special_requests       65229 non-null  int64  \n",
            " 24  total_nights                    65229 non-null  int64  \n",
            "dtypes: float64(4), int64(15), object(6)\n",
            "memory usage: 12.4+ MB\n"
          ]
        }
      ]
    },
    {
      "cell_type": "markdown",
      "source": [
        "Lets clean guests with more than 5 babys. Otherwise it will be an Anomaly."
      ],
      "metadata": {
        "id": "PADabIOI8wNn"
      }
    },
    {
      "cell_type": "code",
      "source": [
        "df[df['babies'] > 5]"
      ],
      "metadata": {
        "colab": {
          "base_uri": "https://localhost:8080/",
          "height": 176
        },
        "id": "MkYypl_mzeN0",
        "outputId": "b97f8ddc-1367-477b-85c3-e42f32fe88c3"
      },
      "execution_count": 6,
      "outputs": [
        {
          "output_type": "execute_result",
          "data": {
            "text/html": [
              "\n",
              "  <div id=\"df-4c29039f-2693-4015-a717-242127eb3bf9\">\n",
              "    <div class=\"colab-df-container\">\n",
              "      <div>\n",
              "<style scoped>\n",
              "    .dataframe tbody tr th:only-of-type {\n",
              "        vertical-align: middle;\n",
              "    }\n",
              "\n",
              "    .dataframe tbody tr th {\n",
              "        vertical-align: top;\n",
              "    }\n",
              "\n",
              "    .dataframe thead th {\n",
              "        text-align: right;\n",
              "    }\n",
              "</style>\n",
              "<table border=\"1\" class=\"dataframe\">\n",
              "  <thead>\n",
              "    <tr style=\"text-align: right;\">\n",
              "      <th></th>\n",
              "      <th>id</th>\n",
              "      <th>is_canceled</th>\n",
              "      <th>lead_time</th>\n",
              "      <th>arrival_date_year</th>\n",
              "      <th>arrival_date_month</th>\n",
              "      <th>arrival_date_week_number</th>\n",
              "      <th>arrival_date_day_of_month</th>\n",
              "      <th>stays_in_weekend_nights</th>\n",
              "      <th>stays_in_week_nights</th>\n",
              "      <th>adults</th>\n",
              "      <th>children</th>\n",
              "      <th>babies</th>\n",
              "      <th>meal</th>\n",
              "      <th>country</th>\n",
              "      <th>distribution_channel</th>\n",
              "      <th>is_repeated_guest</th>\n",
              "      <th>previous_cancellations</th>\n",
              "      <th>previous_bookings_not_canceled</th>\n",
              "      <th>reserved_room_type</th>\n",
              "      <th>booking_changes</th>\n",
              "      <th>days_in_waiting_list</th>\n",
              "      <th>customer_type</th>\n",
              "      <th>required_car_parking_spaces</th>\n",
              "      <th>total_of_special_requests</th>\n",
              "      <th>total_nights</th>\n",
              "    </tr>\n",
              "  </thead>\n",
              "  <tbody>\n",
              "    <tr>\n",
              "      <th>22995</th>\n",
              "      <td>30935</td>\n",
              "      <td>0</td>\n",
              "      <td>37.0</td>\n",
              "      <td>2016</td>\n",
              "      <td>January</td>\n",
              "      <td>3</td>\n",
              "      <td>12</td>\n",
              "      <td>0</td>\n",
              "      <td>2</td>\n",
              "      <td>2.0</td>\n",
              "      <td>0.0</td>\n",
              "      <td>10.0</td>\n",
              "      <td>BB</td>\n",
              "      <td>PRT</td>\n",
              "      <td>TA/TO</td>\n",
              "      <td>0</td>\n",
              "      <td>0</td>\n",
              "      <td>0</td>\n",
              "      <td>D</td>\n",
              "      <td>1</td>\n",
              "      <td>0</td>\n",
              "      <td>Transient</td>\n",
              "      <td>0</td>\n",
              "      <td>1</td>\n",
              "      <td>2</td>\n",
              "    </tr>\n",
              "    <tr>\n",
              "      <th>41528</th>\n",
              "      <td>59925</td>\n",
              "      <td>0</td>\n",
              "      <td>11.0</td>\n",
              "      <td>2015</td>\n",
              "      <td>October</td>\n",
              "      <td>42</td>\n",
              "      <td>11</td>\n",
              "      <td>2</td>\n",
              "      <td>1</td>\n",
              "      <td>1.0</td>\n",
              "      <td>0.0</td>\n",
              "      <td>9.0</td>\n",
              "      <td>BB</td>\n",
              "      <td>GBR</td>\n",
              "      <td>Corporate</td>\n",
              "      <td>0</td>\n",
              "      <td>0</td>\n",
              "      <td>0</td>\n",
              "      <td>A</td>\n",
              "      <td>1</td>\n",
              "      <td>0</td>\n",
              "      <td>Transient-Party</td>\n",
              "      <td>0</td>\n",
              "      <td>0</td>\n",
              "      <td>3</td>\n",
              "    </tr>\n",
              "  </tbody>\n",
              "</table>\n",
              "</div>\n",
              "      <button class=\"colab-df-convert\" onclick=\"convertToInteractive('df-4c29039f-2693-4015-a717-242127eb3bf9')\"\n",
              "              title=\"Convert this dataframe to an interactive table.\"\n",
              "              style=\"display:none;\">\n",
              "        \n",
              "  <svg xmlns=\"http://www.w3.org/2000/svg\" height=\"24px\"viewBox=\"0 0 24 24\"\n",
              "       width=\"24px\">\n",
              "    <path d=\"M0 0h24v24H0V0z\" fill=\"none\"/>\n",
              "    <path d=\"M18.56 5.44l.94 2.06.94-2.06 2.06-.94-2.06-.94-.94-2.06-.94 2.06-2.06.94zm-11 1L8.5 8.5l.94-2.06 2.06-.94-2.06-.94L8.5 2.5l-.94 2.06-2.06.94zm10 10l.94 2.06.94-2.06 2.06-.94-2.06-.94-.94-2.06-.94 2.06-2.06.94z\"/><path d=\"M17.41 7.96l-1.37-1.37c-.4-.4-.92-.59-1.43-.59-.52 0-1.04.2-1.43.59L10.3 9.45l-7.72 7.72c-.78.78-.78 2.05 0 2.83L4 21.41c.39.39.9.59 1.41.59.51 0 1.02-.2 1.41-.59l7.78-7.78 2.81-2.81c.8-.78.8-2.07 0-2.86zM5.41 20L4 18.59l7.72-7.72 1.47 1.35L5.41 20z\"/>\n",
              "  </svg>\n",
              "      </button>\n",
              "      \n",
              "  <style>\n",
              "    .colab-df-container {\n",
              "      display:flex;\n",
              "      flex-wrap:wrap;\n",
              "      gap: 12px;\n",
              "    }\n",
              "\n",
              "    .colab-df-convert {\n",
              "      background-color: #E8F0FE;\n",
              "      border: none;\n",
              "      border-radius: 50%;\n",
              "      cursor: pointer;\n",
              "      display: none;\n",
              "      fill: #1967D2;\n",
              "      height: 32px;\n",
              "      padding: 0 0 0 0;\n",
              "      width: 32px;\n",
              "    }\n",
              "\n",
              "    .colab-df-convert:hover {\n",
              "      background-color: #E2EBFA;\n",
              "      box-shadow: 0px 1px 2px rgba(60, 64, 67, 0.3), 0px 1px 3px 1px rgba(60, 64, 67, 0.15);\n",
              "      fill: #174EA6;\n",
              "    }\n",
              "\n",
              "    [theme=dark] .colab-df-convert {\n",
              "      background-color: #3B4455;\n",
              "      fill: #D2E3FC;\n",
              "    }\n",
              "\n",
              "    [theme=dark] .colab-df-convert:hover {\n",
              "      background-color: #434B5C;\n",
              "      box-shadow: 0px 1px 3px 1px rgba(0, 0, 0, 0.15);\n",
              "      filter: drop-shadow(0px 1px 2px rgba(0, 0, 0, 0.3));\n",
              "      fill: #FFFFFF;\n",
              "    }\n",
              "  </style>\n",
              "\n",
              "      <script>\n",
              "        const buttonEl =\n",
              "          document.querySelector('#df-4c29039f-2693-4015-a717-242127eb3bf9 button.colab-df-convert');\n",
              "        buttonEl.style.display =\n",
              "          google.colab.kernel.accessAllowed ? 'block' : 'none';\n",
              "\n",
              "        async function convertToInteractive(key) {\n",
              "          const element = document.querySelector('#df-4c29039f-2693-4015-a717-242127eb3bf9');\n",
              "          const dataTable =\n",
              "            await google.colab.kernel.invokeFunction('convertToInteractive',\n",
              "                                                     [key], {});\n",
              "          if (!dataTable) return;\n",
              "\n",
              "          const docLinkHtml = 'Like what you see? Visit the ' +\n",
              "            '<a target=\"_blank\" href=https://colab.research.google.com/notebooks/data_table.ipynb>data table notebook</a>'\n",
              "            + ' to learn more about interactive tables.';\n",
              "          element.innerHTML = '';\n",
              "          dataTable['output_type'] = 'display_data';\n",
              "          await google.colab.output.renderOutput(dataTable, element);\n",
              "          const docLink = document.createElement('div');\n",
              "          docLink.innerHTML = docLinkHtml;\n",
              "          element.appendChild(docLink);\n",
              "        }\n",
              "      </script>\n",
              "    </div>\n",
              "  </div>\n",
              "  "
            ],
            "text/plain": [
              "          id  is_canceled  ...  total_of_special_requests  total_nights\n",
              "22995  30935            0  ...                          1             2\n",
              "41528  59925            0  ...                          0             3\n",
              "\n",
              "[2 rows x 25 columns]"
            ]
          },
          "metadata": {},
          "execution_count": 6
        }
      ]
    },
    {
      "cell_type": "code",
      "source": [
        "plt.scatter(df['id'], df['babies'])\n",
        "plt.xlabel('Id')\n",
        "plt.ylabel('Babies count')\n",
        "plt.show()"
      ],
      "metadata": {
        "colab": {
          "base_uri": "https://localhost:8080/",
          "height": 279
        },
        "id": "gG0lh8WmzdL8",
        "outputId": "04a4d946-e97c-48d7-eb56-fd72bbd8293c"
      },
      "execution_count": 7,
      "outputs": [
        {
          "output_type": "display_data",
          "data": {
            "image/png": "[encoded data removed]",
            "text/plain": [
              "<Figure size 432x288 with 1 Axes>"
            ]
          },
          "metadata": {
            "needs_background": "light"
          }
        }
      ]
    },
    {
      "cell_type": "code",
      "source": [
        "df = df.loc[df['babies'] < 3, :]"
      ],
      "metadata": {
        "id": "m4vR4LiOzdOE"
      },
      "execution_count": 8,
      "outputs": []
    },
    {
      "cell_type": "markdown",
      "source": [
        "Let's observe count of previous cancellations"
      ],
      "metadata": {
        "id": "uhepcOu4-0s4"
      }
    },
    {
      "cell_type": "code",
      "source": [
        "plt.scatter(df['id'], df['previous_cancellations'])\n",
        "plt.xlabel('Id')\n",
        "plt.ylabel('Previous cancellations count')\n",
        "plt.show()"
      ],
      "metadata": {
        "colab": {
          "base_uri": "https://localhost:8080/",
          "height": 279
        },
        "id": "bQnwwC4WzdSp",
        "outputId": "8a25650b-1557-429e-f2a2-0fd6a9bf3d21"
      },
      "execution_count": 9,
      "outputs": [
        {
          "output_type": "display_data",
          "data": {
            "image/png": "[encoded data removed]",
            "text/plain": [
              "<Figure size 432x288 with 1 Axes>"
            ]
          },
          "metadata": {
            "needs_background": "light"
          }
        }
      ]
    },
    {
      "cell_type": "markdown",
      "source": [
        "Label encoding\n",
        "\n",
        "There was an error during test preprocessing (encoder met unseen categories, therefore I found this solution helpful:\n",
        "\n",
        "https://stackoverflow.com/a/65538195/14715428"
      ],
      "metadata": {
        "id": "S7coKc95UrxN"
      }
    },
    {
      "cell_type": "code",
      "source": [
        "from sklearn.preprocessing import OrdinalEncoder\n",
        "\n",
        "\n",
        "enc_cols = ['arrival_date_month',\n",
        "            'reserved_room_type',\n",
        "            'meal',\n",
        "            'country',\n",
        "            'distribution_channel',\n",
        "            'customer_type']\n",
        "\n",
        "for col in enc_cols:\n",
        "    # Create encoder\n",
        "    encoder = OrdinalEncoder(handle_unknown='use_encoded_value',\n",
        "                             unknown_value=-1)\n",
        "    # reshape the 1-D country array to 2-D as fit_transform expects 2-D and finally fit the object \n",
        "    X = encoder.fit_transform(df[col].values.reshape(-1,1))\n",
        "    X_test = encoder.transform(df_test[col].values.reshape(-1,1))\n",
        "\n",
        "    # add this back into the original dataframe \n",
        "    encoded = pd.DataFrame(X, columns=[col + \"_enc\"])\n",
        "    df = pd.concat([df, encoded], axis=1)\n",
        "\n",
        "    encoded = pd.DataFrame(X_test, columns=[col + \"_enc\"])\n",
        "    df_test = pd.concat([df_test, encoded], axis=1)\n",
        "\n",
        "    df = df.drop([col], axis=1)\n",
        "    df_test = df_test.drop([col], axis=1)\n",
        "\n",
        "print(df.info())"
      ],
      "metadata": {
        "colab": {
          "base_uri": "https://localhost:8080/"
        },
        "id": "bG_aI5N1Uq-Q",
        "outputId": "0bca2650-ffb1-4a79-eb2f-0d4183e48828"
      },
      "execution_count": 10,
      "outputs": [
        {
          "output_type": "stream",
          "name": "stdout",
          "text": [
            "<class 'pandas.core.frame.DataFrame'>\n",
            "Int64Index: 65229 entries, 0 to 65228\n",
            "Data columns (total 25 columns):\n",
            " #   Column                          Non-Null Count  Dtype  \n",
            "---  ------                          --------------  -----  \n",
            " 0   id                              65227 non-null  float64\n",
            " 1   is_canceled                     65227 non-null  float64\n",
            " 2   lead_time                       65227 non-null  float64\n",
            " 3   arrival_date_year               65227 non-null  float64\n",
            " 4   arrival_date_week_number        65227 non-null  float64\n",
            " 5   arrival_date_day_of_month       65227 non-null  float64\n",
            " 6   stays_in_weekend_nights         65227 non-null  float64\n",
            " 7   stays_in_week_nights            65227 non-null  float64\n",
            " 8   adults                          65227 non-null  float64\n",
            " 9   children                        65227 non-null  float64\n",
            " 10  babies                          65227 non-null  float64\n",
            " 11  is_repeated_guest               65227 non-null  float64\n",
            " 12  previous_cancellations          65227 non-null  float64\n",
            " 13  previous_bookings_not_canceled  65227 non-null  float64\n",
            " 14  booking_changes                 65227 non-null  float64\n",
            " 15  days_in_waiting_list            65227 non-null  float64\n",
            " 16  required_car_parking_spaces     65227 non-null  float64\n",
            " 17  total_of_special_requests       65227 non-null  float64\n",
            " 18  total_nights                    65227 non-null  float64\n",
            " 19  arrival_date_month_enc          65227 non-null  float64\n",
            " 20  reserved_room_type_enc          65227 non-null  float64\n",
            " 21  meal_enc                        65227 non-null  float64\n",
            " 22  country_enc                     65227 non-null  float64\n",
            " 23  distribution_channel_enc        65227 non-null  float64\n",
            " 24  customer_type_enc               65227 non-null  float64\n",
            "dtypes: float64(25)\n",
            "memory usage: 12.9 MB\n",
            "None\n"
          ]
        }
      ]
    },
    {
      "cell_type": "markdown",
      "source": [
        "## Model"
      ],
      "metadata": {
        "id": "XQwWI1i-TpN8"
      }
    },
    {
      "cell_type": "code",
      "source": [
        "# X, y split\n",
        "\n",
        "X = df.drop(['is_canceled'], axis=1)\n",
        "y = df['is_canceled'].values.astype('bool')\n",
        "X_test = df_test.drop(['is_canceled'], axis=1)\n",
        "y_test = df_test['is_canceled'].values.astype('bool')"
      ],
      "metadata": {
        "id": "fKvTrnMPUSct"
      },
      "execution_count": 38,
      "outputs": []
    },
    {
      "cell_type": "code",
      "source": [
        "from sklearn.model_selection import train_test_split\n",
        "\n",
        "# Validation split\n",
        "X_train, X_valid, y_train, y_valid = train_test_split(X, y, test_size=0.3,\n",
        "                                                      shuffle=True,\n",
        "                                                      random_state=13)\n",
        "\n",
        "# y_train, y_valid = y_train.values.astype('bool'), y_valid.values.astype('bool')"
      ],
      "metadata": {
        "id": "7kmB3xVuUEZj"
      },
      "execution_count": 39,
      "outputs": []
    },
    {
      "cell_type": "code",
      "source": [
        "import xgboost as xgb\n",
        "\n",
        "eval_set = [(X_train, y_train), (X_valid, y_valid)]\n",
        "xgbr = xgb.XGBClassifier(eta=0.3,\n",
        "                         max_depth=3,\n",
        "                         objective='binary:logistic',\n",
        "                         tree_method='gpu_hist',\n",
        "                         random_state=13,\n",
        "                         verbosity=2)"
      ],
      "metadata": {
        "id": "V2yDzCyAzdU-"
      },
      "execution_count": 40,
      "outputs": []
    },
    {
      "cell_type": "code",
      "source": [
        "xgbr.fit(X_train, y_train,\n",
        "         eval_metric=['aucpr', 'aucpr'], eval_set=eval_set,\n",
        "         early_stopping_rounds=400, verbose=2)"
      ],
      "metadata": {
        "id": "EE97M0xhzdW0",
        "colab": {
          "base_uri": "https://localhost:8080/"
        },
        "outputId": "59ca3a72-7cc1-4fe9-f9e6-0f24e1bf65b6"
      },
      "execution_count": 41,
      "outputs": [
        {
          "output_type": "stream",
          "name": "stdout",
          "text": [
            "[0]\tvalidation_0-aucpr:0.861663\tvalidation_1-aucpr:0.864173\n",
            "Multiple eval metrics have been passed: 'validation_1-aucpr' will be used for early stopping.\n",
            "\n",
            "Will train until validation_1-aucpr hasn't improved in 400 rounds.\n",
            "[2]\tvalidation_0-aucpr:0.872588\tvalidation_1-aucpr:0.875087\n",
            "[4]\tvalidation_0-aucpr:0.875736\tvalidation_1-aucpr:0.879507\n",
            "[6]\tvalidation_0-aucpr:0.915439\tvalidation_1-aucpr:0.918034\n",
            "[8]\tvalidation_0-aucpr:0.927214\tvalidation_1-aucpr:0.92924\n",
            "[10]\tvalidation_0-aucpr:0.931918\tvalidation_1-aucpr:0.934144\n",
            "[12]\tvalidation_0-aucpr:0.941134\tvalidation_1-aucpr:0.944217\n",
            "[14]\tvalidation_0-aucpr:0.944992\tvalidation_1-aucpr:0.947801\n",
            "[16]\tvalidation_0-aucpr:0.946469\tvalidation_1-aucpr:0.949708\n",
            "[18]\tvalidation_0-aucpr:0.950115\tvalidation_1-aucpr:0.953081\n",
            "[20]\tvalidation_0-aucpr:0.953822\tvalidation_1-aucpr:0.956971\n",
            "[22]\tvalidation_0-aucpr:0.958542\tvalidation_1-aucpr:0.960974\n",
            "[24]\tvalidation_0-aucpr:0.963414\tvalidation_1-aucpr:0.96489\n",
            "[26]\tvalidation_0-aucpr:0.964061\tvalidation_1-aucpr:0.965674\n",
            "[28]\tvalidation_0-aucpr:0.966166\tvalidation_1-aucpr:0.967587\n",
            "[30]\tvalidation_0-aucpr:0.967434\tvalidation_1-aucpr:0.96877\n",
            "[32]\tvalidation_0-aucpr:0.970114\tvalidation_1-aucpr:0.971327\n",
            "[34]\tvalidation_0-aucpr:0.971082\tvalidation_1-aucpr:0.972109\n",
            "[36]\tvalidation_0-aucpr:0.971165\tvalidation_1-aucpr:0.972187\n",
            "[38]\tvalidation_0-aucpr:0.972419\tvalidation_1-aucpr:0.973309\n",
            "[40]\tvalidation_0-aucpr:0.973274\tvalidation_1-aucpr:0.974209\n",
            "[42]\tvalidation_0-aucpr:0.973994\tvalidation_1-aucpr:0.974829\n",
            "[44]\tvalidation_0-aucpr:0.974629\tvalidation_1-aucpr:0.975371\n",
            "[46]\tvalidation_0-aucpr:0.975403\tvalidation_1-aucpr:0.976046\n",
            "[48]\tvalidation_0-aucpr:0.976515\tvalidation_1-aucpr:0.977079\n",
            "[50]\tvalidation_0-aucpr:0.976982\tvalidation_1-aucpr:0.977492\n",
            "[52]\tvalidation_0-aucpr:0.977301\tvalidation_1-aucpr:0.977787\n",
            "[54]\tvalidation_0-aucpr:0.977841\tvalidation_1-aucpr:0.978241\n",
            "[56]\tvalidation_0-aucpr:0.97908\tvalidation_1-aucpr:0.979388\n",
            "[58]\tvalidation_0-aucpr:0.979423\tvalidation_1-aucpr:0.979664\n",
            "[60]\tvalidation_0-aucpr:0.979872\tvalidation_1-aucpr:0.980084\n",
            "[62]\tvalidation_0-aucpr:0.980707\tvalidation_1-aucpr:0.980877\n",
            "[64]\tvalidation_0-aucpr:0.981037\tvalidation_1-aucpr:0.98116\n",
            "[66]\tvalidation_0-aucpr:0.981215\tvalidation_1-aucpr:0.981327\n",
            "[68]\tvalidation_0-aucpr:0.982031\tvalidation_1-aucpr:0.982056\n",
            "[70]\tvalidation_0-aucpr:0.982257\tvalidation_1-aucpr:0.982321\n",
            "[72]\tvalidation_0-aucpr:0.982713\tvalidation_1-aucpr:0.982801\n",
            "[74]\tvalidation_0-aucpr:0.98309\tvalidation_1-aucpr:0.983136\n",
            "[76]\tvalidation_0-aucpr:0.983208\tvalidation_1-aucpr:0.983221\n",
            "[78]\tvalidation_0-aucpr:0.983472\tvalidation_1-aucpr:0.983458\n",
            "[80]\tvalidation_0-aucpr:0.983766\tvalidation_1-aucpr:0.983728\n",
            "[82]\tvalidation_0-aucpr:0.984048\tvalidation_1-aucpr:0.983993\n",
            "[84]\tvalidation_0-aucpr:0.984409\tvalidation_1-aucpr:0.984328\n",
            "[86]\tvalidation_0-aucpr:0.984673\tvalidation_1-aucpr:0.984554\n",
            "[88]\tvalidation_0-aucpr:0.984886\tvalidation_1-aucpr:0.984748\n",
            "[90]\tvalidation_0-aucpr:0.984939\tvalidation_1-aucpr:0.984812\n",
            "[92]\tvalidation_0-aucpr:0.985306\tvalidation_1-aucpr:0.985105\n",
            "[94]\tvalidation_0-aucpr:0.985471\tvalidation_1-aucpr:0.985225\n",
            "[96]\tvalidation_0-aucpr:0.985737\tvalidation_1-aucpr:0.98544\n",
            "[98]\tvalidation_0-aucpr:0.985939\tvalidation_1-aucpr:0.98561\n",
            "[99]\tvalidation_0-aucpr:0.985963\tvalidation_1-aucpr:0.985623\n"
          ]
        },
        {
          "output_type": "execute_result",
          "data": {
            "text/plain": [
              "XGBClassifier(eta=0.3, random_state=13, tree_method='gpu_hist', verbosity=2)"
            ]
          },
          "metadata": {},
          "execution_count": 41
        }
      ]
    },
    {
      "cell_type": "code",
      "source": [
        "from sklearn.metrics import roc_curve, auc, accuracy_score\n",
        "\n",
        "# calculate the fpr and tpr for all thresholds of the binary classification\n",
        "probs = xgbr.predict_proba(X_test)\n",
        "preds = probs[:,1]\n",
        "fpr, tpr, threshold = roc_curve(y_test, preds)\n",
        "roc_auc = auc(fpr, tpr)"
      ],
      "metadata": {
        "id": "T60NxHvkZcO3"
      },
      "execution_count": 45,
      "outputs": []
    },
    {
      "cell_type": "code",
      "source": [
        "# plot\n",
        "\n",
        "plt.title('Receiver Operating Characteristic')\n",
        "plt.plot(fpr, tpr, 'b', label = 'AUC = %0.2f' % roc_auc)\n",
        "plt.legend(loc = 'lower right')\n",
        "plt.plot([0, 1], [0, 1],'r--')\n",
        "plt.xlim([0, 1])\n",
        "plt.ylim([0, 1])\n",
        "plt.ylabel('True Positive Rate')\n",
        "plt.xlabel('False Positive Rate')\n",
        "plt.show()"
      ],
      "metadata": {
        "colab": {
          "base_uri": "https://localhost:8080/",
          "height": 295
        },
        "id": "ufplJ9I3ZcQ6",
        "outputId": "230071db-f557-4a12-ae03-6206742ca024"
      },
      "execution_count": 46,
      "outputs": [
        {
          "output_type": "display_data",
          "data": {
            "image/png": "[encoded data removed]",
            "text/plain": [
              "<Figure size 432x288 with 1 Axes>"
            ]
          },
          "metadata": {
            "needs_background": "light"
          }
        }
      ]
    },
    {
      "cell_type": "code",
      "source": [
        "y_pred = xgbr.predict(X_test)\n",
        "score = accuracy_score(y_test, y_pred)\n",
        "print(score)"
      ],
      "metadata": {
        "colab": {
          "base_uri": "https://localhost:8080/"
        },
        "id": "bi7C8EOzZcTB",
        "outputId": "18508ef3-1d39-403d-a980-3667a0ab1276"
      },
      "execution_count": 47,
      "outputs": [
        {
          "output_type": "stream",
          "name": "stdout",
          "text": [
            "0.975410341848698\n"
          ]
        }
      ]
    },
    {
      "cell_type": "code",
      "source": [
        ""
      ],
      "metadata": {
        "id": "Vdq7LpspZcVD"
      },
      "execution_count": null,
      "outputs": []
    },
    {
      "cell_type": "code",
      "source": [
        ""
      ],
      "metadata": {
        "id": "QLOZcsTFZcW7"
      },
      "execution_count": null,
      "outputs": []
    }
  ]
}